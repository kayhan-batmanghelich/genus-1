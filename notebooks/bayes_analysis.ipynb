{
 "cells": [
  {
   "cell_type": "code",
   "execution_count": 1,
   "metadata": {
    "collapsed": true
   },
   "outputs": [],
   "source": [
    "import os\n",
    "import numpy as np\n",
    "import pandas as pd\n",
    "from custom import utils\n",
    "from collections import Counter\n",
    "import inspect\n",
    "import scipy.io"
   ]
  },
  {
   "cell_type": "code",
   "execution_count": 2,
   "metadata": {},
   "outputs": [
    {
     "name": "stdout",
     "output_type": "stream",
     "text": [
      "170_columns.txt\t\t\t  covars_ecn.txt\r\n",
      "2k_columns.txt\t\t\t  covars_no_ecn.txt\r\n",
      "bayes_reg.m\t\t\t  cv_idxs.mat\r\n",
      "bf_1\t\t\t\t  data_prep.ipynb\r\n",
      "bf_2\t\t\t\t  FXVB_py.ipynb\r\n",
      "bf_2_respaths\t\t\t  genomic_N1547_P100006_matched.hdf5py\r\n",
      "bf_3\t\t\t\t  id_variables.txt\r\n",
      "brain_gene.mat\t\t\t  KCCA.ipynb\r\n",
      "brain_N1547_P5927_matched.hdf5py  pyscript.m\r\n"
     ]
    }
   ],
   "source": [
    "def lookup(x):\n",
    "    print(inspect.getsource(x))\n",
    "    return None\n",
    "!ls"
   ]
  },
  {
   "cell_type": "markdown",
   "metadata": {},
   "source": [
    "# data that will be used for bayes script, still need to subset it"
   ]
  },
  {
   "cell_type": "code",
   "execution_count": 3,
   "metadata": {},
   "outputs": [
    {
     "name": "stdout",
     "output_type": "stream",
     "text": [
      "Brain data shape: (1547, 5927)\n",
      "Genomic data shape: (1547, 100006)\n"
     ]
    }
   ],
   "source": [
    "brain_data = pd.read_hdf(\"brain_N1547_P5927_matched.hdf5py\")\n",
    "genomic_data = pd.read_hdf(\"genomic_N1547_P100006_matched.hdf5py\")\n",
    "print(\"Brain data shape: {}\".format(brain_data.shape))\n",
    "print(\"Genomic data shape: {}\".format(genomic_data.shape))"
   ]
  },
  {
   "cell_type": "markdown",
   "metadata": {},
   "source": [
    "# text files for subsetting some of the data, column wise"
   ]
  },
  {
   "cell_type": "code",
   "execution_count": 4,
   "metadata": {
    "collapsed": true
   },
   "outputs": [],
   "source": [
    "b170 = np.genfromtxt(\"170_columns.txt\", dtype=str)\n",
    "cvars_descrete = np.genfromtxt(\"covars_ecn.txt\", dtype=str)\n",
    "cvars_continuous = np.genfromtxt(\"covars_no_ecn.txt\")"
   ]
  },
  {
   "cell_type": "markdown",
   "metadata": {},
   "source": [
    "# paranoia check for matching IDs"
   ]
  },
  {
   "cell_type": "code",
   "execution_count": 5,
   "metadata": {
    "collapsed": true,
    "scrolled": true
   },
   "outputs": [],
   "source": [
    "assert((brain_data.IID.values == genomic_data.IID.values).mean() == 1.)"
   ]
  },
  {
   "cell_type": "markdown",
   "metadata": {},
   "source": [
    "# further preprocessing"
   ]
  },
  {
   "cell_type": "code",
   "execution_count": 6,
   "metadata": {
    "collapsed": true,
    "scrolled": true
   },
   "outputs": [],
   "source": [
    "group = brain_data.GROUP.values\n",
    "cnt_scz = np.logical_or(group == 'Control', group == 'Schizophrenia')\n",
    "brain = brain_data.ix[cnt_scz, :]\n",
    "genomic = genomic_data.ix[cnt_scz, :]\n",
    "y_g = genomic.DIAG.values - 1\n",
    "y_b = np.array([0 if i == 'Control' else 1 for i in brain.GROUP.values])"
   ]
  },
  {
   "cell_type": "markdown",
   "metadata": {},
   "source": [
    "# remove covariates from brain data"
   ]
  },
  {
   "cell_type": "code",
   "execution_count": 7,
   "metadata": {
    "collapsed": true,
    "scrolled": true
   },
   "outputs": [],
   "source": [
    "sex = genomic['SEX'].values\n",
    "age = brain['AGE_MRI'].values\n",
    "# there is one missing value for age, replacing that with the column mean\n",
    "age_imputed = np.nan_to_num(age)\n",
    "age[age_imputed == 0] = age[age_imputed != 0].mean()\n",
    "ICV = brain['EstimatedTotalIntraCranialVol'].values\n",
    "cvars_cont = np.hstack((sex[:, None], age[:, None], ICV[:, None]))\n",
    "cvars_desc = np.hstack([utils.encoder(brain[col]) for col in cvars_descrete[1:]])\n",
    "cvars_desc = utils.make_non_singular(utils.encoder(brain.STUDY.values))\n",
    "cvars_joined = utils.make_non_singular(np.hstack((cvars_cont, cvars_desc)))\n",
    "brain_170 = brain[b170]\n",
    "X = utils.proj(brain_170.values, cvars_joined)\n",
    "y = y_b.copy()\n",
    "G = utils.proj(genomic.ix[:, 1:-5].values, cvars_joined)\n",
    "snp_ids = genomic.columns[1:-5].values"
   ]
  },
  {
   "cell_type": "markdown",
   "metadata": {},
   "source": [
    "# this is the file that will be used in the bayes factor step"
   ]
  },
  {
   "cell_type": "code",
   "execution_count": 8,
   "metadata": {
    "collapsed": true
   },
   "outputs": [],
   "source": [
    "scipy.io.savemat(\"brain_gene.mat\",\n",
    "                 mdict={'G': G, \n",
    "                        'I': X, \n",
    "                        'Z': np.array([]),\n",
    "                        'colnames': snp_ids,\n",
    "                        'y': y})"
   ]
  },
  {
   "cell_type": "markdown",
   "metadata": {},
   "source": [
    "# starting the bayes factor workflow"
   ]
  },
  {
   "cell_type": "code",
   "execution_count": 18,
   "metadata": {
    "collapsed": true
   },
   "outputs": [],
   "source": [
    "import os\n",
    "import numpy as np\n",
    "from nipype import Function, Node, Workflow, IdentityInterface"
   ]
  },
  {
   "cell_type": "code",
   "execution_count": 19,
   "metadata": {
    "collapsed": true
   },
   "outputs": [],
   "source": [
    "wf = Workflow(name='brain_bcv')\n",
    "wf.base_dir = \"/om/user/ysa\""
   ]
  },
  {
   "cell_type": "code",
   "execution_count": 20,
   "metadata": {
    "collapsed": true
   },
   "outputs": [],
   "source": [
    "Iternode = Node(IdentityInterface(fields=['col_idx', 'cv_idx']), name = 'Iternode')\n",
    "Iternode.iterables = [('col_idx', np.arange(170) + 1), ('cv_idx', np.arange(10) + 1)]"
   ]
  },
  {
   "cell_type": "markdown",
   "metadata": {},
   "source": [
    "# creates the cross validation"
   ]
  },
  {
   "cell_type": "code",
   "execution_count": 21,
   "metadata": {
    "collapsed": true
   },
   "outputs": [],
   "source": [
    "def cv_maker(data_path, save_path):\n",
    "    import scipy.io\n",
    "    from sklearn.model_selection import StratifiedKFold\n",
    "    X = scipy.io.loadmat(data_path)['I']\n",
    "    y = scipy.io.loadmat(data_path)['y'][0]\n",
    "    cv = StratifiedKFold(n_splits=10, random_state=1)\n",
    "    train_idx, test_idx = {}, {}\n",
    "    for idx, (train, test) in enumerate(cv.split(X, y)):\n",
    "        train_idx['train_{}'.format(idx + 1)] = train + 1\n",
    "        test_idx['test_{}'.format(idx + 1)] = test + 1\n",
    "    scipy.io.savemat(save_path, mdict={\"train\":train_idx, \"test\":test_idx})\n",
    "    return save_path\n",
    " \n",
    "CV_maker = Node(interface=Function(\n",
    "    input_names = ['data_path', 'save_path'],\n",
    "    output_names = ['save_path'],\n",
    "    function = cv_maker\n",
    "), name = 'CV_maker')\n",
    "\n",
    "CV_maker.inputs.data_path = \"/storage/gablab001/data/genus/brain_genomic_bayes/brain_gene.mat\"\n",
    "CV_maker.inputs.save_path = \"/storage/gablab001/data/genus/brain_genomic_bayes/cv_idxs.mat\""
   ]
  },
  {
   "cell_type": "markdown",
   "metadata": {},
   "source": [
    "# bayes factor step (1)"
   ]
  },
  {
   "cell_type": "code",
   "execution_count": 22,
   "metadata": {
    "collapsed": true
   },
   "outputs": [],
   "source": [
    "def run_bayes(in_file, cv_file, cv_idx, col_idx, out_file):\n",
    "    import cPickle as pickle\n",
    "    import numpy as np\n",
    "    import os\n",
    "    import nipype.interfaces.matlab as Matlab\n",
    "    def outnames(col, out):\n",
    "        return os.path.join(out, '{}.mat'.format(col))\n",
    "    col_names = np.genfromtxt(\"/storage/gablab001/data/genus/brain_genomic_bayes/170_columns.txt\", dtype=str)\n",
    "    col_save_name = col_names[col_idx - 1] + \"_{}_{}_BF\".format(cv_idx, col_idx)\n",
    "    with open(\"/storage/gablab001/data/genus/brain_genomic_bayes/bayes_reg.m\", \"r\") as src:\n",
    "        script = src.read().replace(\"\\n\", \"\")\n",
    "    mat_file = outnames(in_file[:-4] + col_save_name, out_file)\n",
    "    matlab = Matlab.MatlabCommand()\n",
    "    matlab.inputs.paths = [\n",
    "    '/storage/gablab001/data/genus/current/variational_bayes_wrap/varbvs/varbvs-MATLAB',\n",
    "    '/storage/gablab001/data/genus/current/variational_bayes_wrap/varbvs',\n",
    "    '/storage/gablab001/data/genus/current/variational_bayes_wrap/varbvs/varbvs-R']\n",
    "    matlab.inputs.script = script.format(in_file, cv_file, cv_idx, col_idx, mat_file)\n",
    "    res = matlab.run()\n",
    "    return mat_file\n",
    "\n",
    "Run_bayes = Node(interface=Function(\n",
    "    input_names = ['in_file', 'cv_file', \n",
    "                   'cv_idx', 'col_idx',\n",
    "                   'out_file'],\n",
    "    output_names = ['mat_file'],\n",
    "    function = run_bayes\n",
    "), name='Run_bayes')\n",
    "\n",
    "Run_bayes.inputs.in_file = \"/storage/gablab001/data/genus/brain_genomic_bayes/brain_gene.mat\"\n",
    "Run_bayes.inputs.out_file = \"/storage/gablab001/data/genus/brain_genomic_bayes/\""
   ]
  },
  {
   "cell_type": "markdown",
   "metadata": {},
   "source": [
    "# run step 1"
   ]
  },
  {
   "cell_type": "code",
   "execution_count": 1,
   "metadata": {
    "scrolled": true
   },
   "outputs": [
    {
     "ename": "NameError",
     "evalue": "name 'wf' is not defined",
     "output_type": "error",
     "traceback": [
      "\u001b[0;31m---------------------------------------------------------------------------\u001b[0m",
      "\u001b[0;31mNameError\u001b[0m                                 Traceback (most recent call last)",
      "\u001b[0;32m<ipython-input-1-3aae0d927896>\u001b[0m in \u001b[0;36m<module>\u001b[0;34m()\u001b[0m\n\u001b[0;32m----> 1\u001b[0;31m \u001b[0mwf\u001b[0m\u001b[0;34m.\u001b[0m\u001b[0mconnect\u001b[0m\u001b[0;34m(\u001b[0m\u001b[0mCV_maker\u001b[0m\u001b[0;34m,\u001b[0m \u001b[0;34m'save_path'\u001b[0m\u001b[0;34m,\u001b[0m \u001b[0mRun_bayes\u001b[0m\u001b[0;34m,\u001b[0m \u001b[0;34m'cv_file'\u001b[0m\u001b[0;34m)\u001b[0m\u001b[0;34m\u001b[0m\u001b[0m\n\u001b[0m\u001b[1;32m      2\u001b[0m \u001b[0mwf\u001b[0m\u001b[0;34m.\u001b[0m\u001b[0mconnect\u001b[0m\u001b[0;34m(\u001b[0m\u001b[0mIternode\u001b[0m\u001b[0;34m,\u001b[0m \u001b[0;34m'cv_idx'\u001b[0m\u001b[0;34m,\u001b[0m \u001b[0mRun_bayes\u001b[0m\u001b[0;34m,\u001b[0m \u001b[0;34m'cv_idx'\u001b[0m\u001b[0;34m)\u001b[0m\u001b[0;34m\u001b[0m\u001b[0m\n\u001b[1;32m      3\u001b[0m \u001b[0mwf\u001b[0m\u001b[0;34m.\u001b[0m\u001b[0mconnect\u001b[0m\u001b[0;34m(\u001b[0m\u001b[0mIternode\u001b[0m\u001b[0;34m,\u001b[0m \u001b[0;34m'col_idx'\u001b[0m\u001b[0;34m,\u001b[0m \u001b[0mRun_bayes\u001b[0m\u001b[0;34m,\u001b[0m \u001b[0;34m'col_idx'\u001b[0m\u001b[0;34m)\u001b[0m\u001b[0;34m\u001b[0m\u001b[0m\n\u001b[1;32m      4\u001b[0m \u001b[0;31m#wf.run(plugin='SLURM', plugin_args={'sbatch_args':'--mem=12G -t 3-23:00:00', 'max_jobs': 200})\u001b[0m\u001b[0;34m\u001b[0m\u001b[0;34m\u001b[0m\u001b[0m\n",
      "\u001b[0;31mNameError\u001b[0m: name 'wf' is not defined"
     ]
    }
   ],
   "source": [
    "wf.connect(CV_maker, 'save_path', Run_bayes, 'cv_file')\n",
    "wf.connect(Iternode, 'cv_idx', Run_bayes, 'cv_idx')\n",
    "wf.connect(Iternode, 'col_idx', Run_bayes, 'col_idx')\n",
    "#wf.run(plugin='SLURM', plugin_args={'sbatch_args':'--mem=12G -t 3-23:00:00', 'max_jobs': 200})"
   ]
  },
  {
   "cell_type": "code",
   "execution_count": 24,
   "metadata": {
    "collapsed": true
   },
   "outputs": [],
   "source": [
    "col_names = np.genfromtxt(\"/storage/gablab001/data/genus/brain_genomic_bayes/170_columns.txt\", dtype=str)\n",
    "inf = \"/storage/gablab001/data/genus/brain_genomic_bayes/brain_gene.mat\"\n",
    "outf = \"/storage/gablab001/data/genus/brain_genomic_bayes/bf_3/\""
   ]
  },
  {
   "cell_type": "markdown",
   "metadata": {},
   "source": [
    "# addon functions for step 2 (fixed form VB)"
   ]
  },
  {
   "cell_type": "code",
   "execution_count": 25,
   "metadata": {
    "collapsed": true
   },
   "outputs": [],
   "source": [
    "def make_name(BF_input, col_idx, cv_idx, col_names):\n",
    "    return (BF_input[:-4].split(\"/\")[-1] + \n",
    "            col_names[col_idx - 1] + \n",
    "            \"_{}_{}_BF.mat\".format(cv_idx, col_idx))\n",
    "\n",
    "def csv(colnum, outfile):\n",
    "    import pandas as pd\n",
    "    import os\n",
    "    df = pd.DataFrame(columns=['colNum', 'matFn'])\n",
    "    for i in range(1, colnum):\n",
    "        df.loc[i] = [i, outfile+'{}.mat'.format(i)]\n",
    "    df.iloc[:,0] = df.iloc[:,0].astype(int)\n",
    "    return df\n",
    "\n",
    "def write_csv(cv_idx, col_names, in_file, save_path):\n",
    "    idx = np.arange(len(col_names))+1\n",
    "    df = pd.DataFrame(columns=['colNum', 'matFn'], index=idx)\n",
    "    df['colNum'] = idx\n",
    "    paths = [os.path.join(save_path, make_name(in_file, i, cv_idx, col_names)) for i in idx]\n",
    "    df['matFn'] = paths\n",
    "    bf_2_respaths = \"/storage/gablab001/data/genus/brain_genomic_bayes/bf_3_respaths\"\n",
    "    to_save = os.path.join(bf_2_respaths, \"BFRESULTSLIST_{}.csv\".format(cv_idx))\n",
    "    df.to_csv(to_save, index=None)\n",
    "    return to_save"
   ]
  },
  {
   "cell_type": "markdown",
   "metadata": {},
   "source": [
    "# creates text files with paths to files written in step 1"
   ]
  },
  {
   "cell_type": "code",
   "execution_count": 26,
   "metadata": {
    "collapsed": true
   },
   "outputs": [],
   "source": [
    "for cv_idx in np.arange(10)+1:\n",
    "    write_csv(\n",
    "        cv_idx, \n",
    "        col_names, \n",
    "        inf, \n",
    "        \"/storage/gablab001/data/genus/brain_genomic_bayes/bf_3\"\n",
    "    )"
   ]
  },
  {
   "cell_type": "code",
   "execution_count": 33,
   "metadata": {
    "collapsed": true
   },
   "outputs": [],
   "source": [
    "def run_fixedformVB():\n",
    "    import cPickle as pickle\n",
    "    import numpy as np\n",
    "    import os\n",
    "    import nipype.interfaces.matlab as Matlab\n",
    "    matlab = Matlab.MatlabCommand()\n",
    "    matlab.inputs.paths = [\n",
    "        '/storage/gablab001/data/genus/bayes_adni/basis/bayesianImagingGenetics/src',\n",
    "        '/storage/gablab001/data/genus/bayes_adni/basis/bayesianImagingGenetics/src/Utils']\n",
    "    matlab.inputs.script = \"\"\"\n",
    "    deployEndoPhenVB('step','fxvb',...\n",
    "                    'csvFile','/storage/gablab001/data/genus/brain_genomic_bayes/bf_3_respaths/BFRESULTSLIST_1.csv',...\n",
    "                    'inputMat','/storage/gablab001/data/genus/brain_genomic_bayes/brain_gene.mat',...\n",
    "                    'outFile','/om/user/ysa/ffvb_test.mat')\n",
    "    \"\"\"\n",
    "    res = matlab.run()\n",
    "    "
   ]
  },
  {
   "cell_type": "code",
   "execution_count": 34,
   "metadata": {
    "scrolled": false
   },
   "outputs": [
    {
     "ename": "RuntimeError",
     "evalue": "Command:\nmatlab -nodesktop -nosplash -singleCompThread -r \"addpath('/storage/gablab001/data/genus/brain_genomic_bayes');pyscript;exit\"\nStandard output:\nMATLAB is selecting SOFTWARE OPENGL rendering.\n\n                            < M A T L A B (R) >\n                  Copyright 1984-2016 The MathWorks, Inc.\n                   R2016b (9.1.0.441655) 64-bit (glnxa64)\n                             September 7, 2016\n\n \nTo get started, type one of these: helpwin, helpdesk, or demo.\nFor product information, visit www.mathworks.com.\n \nExecuting pyscript at 26-May-2017 19:00:00:\n----------------------------------------------------------------------------------------------------\nMATLAB Version: 9.1.0.441655 (R2016b)\nMATLAB License Number: 650662\nOperating System: Linux 3.10.0-229.el7.x86_64 #1 SMP Fri Mar 6 11:36:42 UTC 2015 x86_64\nJava Version: Java 1.7.0_60-b19 with Oracle Corporation Java HotSpot(TM) 64-Bit Server VM mixed mode\n----------------------------------------------------------------------------------------------------\nMATLAB                                                Version 9.1         (R2016b)\nSimulink                                              Version 8.8         (R2016b)\nAerospace Blockset                                    Version 3.18        (R2016b)\nAerospace Toolbox                                     Version 2.18        (R2016b)\nAntenna Toolbox                                       Version 2.1         (R2016b)\nAudio System Toolbox                                  Version 1.1         (R2016b)\nBioinformatics Toolbox                                Version 4.7         (R2016b)\nCommunications System Toolbox                         Version 6.3         (R2016b)\nComputer Vision System Toolbox                        Version 7.2         (R2016b)\nControl System Toolbox                                Version 10.1        (R2016b)\nCurve Fitting Toolbox                                 Version 3.5.4       (R2016b)\nDSP System Toolbox                                    Version 9.3         (R2016b)\nDatabase Toolbox                                      Version 7.0         (R2016b)\nDatafeed Toolbox                                      Version 5.4         (R2016b)\nEconometrics Toolbox                                  Version 3.5         (R2016b)\nEmbedded Coder                                        Version 6.11        (R2016b)\nFilter Design HDL Coder                               Version 3.1         (R2016b)\nFinancial Instruments Toolbox                         Version 2.4         (R2016b)\nFinancial Toolbox                                     Version 5.8         (R2016b)\nFixed-Point Designer                                  Version 5.3         (R2016b)\nFuzzy Logic Toolbox                                   Version 2.2.24      (R2016b)\nGlobal Optimization Toolbox                           Version 3.4.1       (R2016b)\nHDL Coder                                             Version 3.9         (R2016b)\nHDL Verifier                                          Version 5.1         (R2016b)\nImage Acquisition Toolbox                             Version 5.1         (R2016b)\nImage Processing Toolbox                              Version 9.5         (R2016b)\nInstrument Control Toolbox                            Version 3.10        (R2016b)\nLTE System Toolbox                                    Version 2.3         (R2016b)\nMATLAB Coder                                          Version 3.2         (R2016b)\nMATLAB Compiler                                       Version 6.3         (R2016b)\nMATLAB Compiler SDK                                   Version 6.3         (R2016b)\nMATLAB Report Generator                               Version 5.1         (R2016b)\nMapping Toolbox                                       Version 4.4         (R2016b)\nModel Predictive Control Toolbox                      Version 5.2.1       (R2016b)\nNeural Network Toolbox                                Version 9.1         (R2016b)\nOptimization Toolbox                                  Version 7.5         (R2016b)\nParallel Computing Toolbox                            Version 6.9         (R2016b)\nPartial Differential Equation Toolbox                 Version 2.3         (R2016b)\nPhased Array System Toolbox                           Version 3.3         (R2016b)\nPolyspace Bug Finder                                  Version 2.2         (R2016b)\nRF Toolbox                                            Version 3.1         (R2016b)\nRobotics System Toolbox                               Version 1.3         (R2016b)\nRobust Control Toolbox                                Version 6.2         (R2016b)\nSignal Processing Toolbox                             Version 7.3         (R2016b)\nSimBiology                                            Version 5.5         (R2016b)\nSimEvents                                             Version 5.1         (R2016b)\nSimRF                                                 Version 5.1         (R2016b)\nSimscape                                              Version 4.1         (R2016b)\nSimscape Driveline                                    Version 2.11        (R2016b)\nSimscape Electronics                                  Version 2.10        (R2016b)\nSimscape Fluids                                       Version 2.1         (R2016b)\nSimscape Multibody                                    Version 4.9         (R2016b)\nSimscape Power Systems                                Version 6.6         (R2016b)\nSimulink 3D Animation                                 Version 7.6         (R2016b)\nSimulink Coder                                        Version 8.11        (R2016b)\nSimulink Control Design                               Version 4.4         (R2016b)\nSimulink Design Optimization                          Version 3.1         (R2016b)\nSimulink Design Verifier                              Version 3.2         (R2016b)\nSimulink Report Generator                             Version 5.1         (R2016b)\nSimulink Verification and Validation                  Version 3.12        (R2016b)\nStateflow                                             Version 8.8         (R2016b)\nStatistics and Machine Learning Toolbox               Version 11.0        (R2016b)\nSymbolic Math Toolbox                                 Version 7.1         (R2016b)\nSystem Identification Toolbox                         Version 9.5         (R2016b)\nTrading Toolbox                                       Version 3.1         (R2016b)\nVision HDL Toolbox                                    Version 1.3         (R2016b)\nWLAN System Toolbox                                   Version 1.2         (R2016b)\nWavelet Toolbox                                       Version 4.17        (R2016b)\ninside of the code !\nInput arguments : \n\nargs = \n\n  struct with fields:\n\n        step: 'fxvb'\n     csvFile: '/storage/gablab001/data/genus/brain_genomic_bayes/bf_3_resp...'\n    inputMat: '/storage/gablab001/data/genus/brain_genomic_bayes/brain_gen...'\n     outFile: '/om/user/ysa/ffvb_test.mat'\n\nRunning fixed-form variational Bayes ...\n\nStandard error:\nMATLAB code threw an exception:\nAssignment has more non-singleton rhs dimensions than non-singleton subscripts\nFile:/storage/gablab001/data/genus/bayes_adni/basis/bayesianImagingGenetics/src/deployEndoPhenVB.m\nName:/storage/gablab001/data/genus/bayes_adni/basis/bayesianImagingGenetics/src/deployEndoPhenVB.m\nLine:47\nFile:storage/gablab001/data/genus/brain_genomic_bayes/pyscript.m\nName:parseFXVBArguments\nLine:100\nFile:eployEndoPhenVB\nName:pyscript\nLine:335\nFile:^\nName:\b\nLine:\nReturn code: 0\nInterface MatlabCommand failed to run. ",
     "output_type": "error",
     "traceback": [
      "\u001b[0;31m---------------------------------------------------------------------------\u001b[0m",
      "\u001b[0;31mRuntimeError\u001b[0m                              Traceback (most recent call last)",
      "\u001b[0;32m<ipython-input-34-fe91b37080e7>\u001b[0m in \u001b[0;36m<module>\u001b[0;34m()\u001b[0m\n\u001b[0;32m----> 1\u001b[0;31m \u001b[0mrun_fixedformVB\u001b[0m\u001b[0;34m(\u001b[0m\u001b[0;34m)\u001b[0m\u001b[0;34m\u001b[0m\u001b[0m\n\u001b[0m",
      "\u001b[0;32m<ipython-input-33-dcdb67098a67>\u001b[0m in \u001b[0;36mrun_fixedformVB\u001b[0;34m()\u001b[0m\n\u001b[1;32m     14\u001b[0m                     'outFile','/om/user/ysa/ffvb_test.mat')\n\u001b[1;32m     15\u001b[0m     \"\"\"\n\u001b[0;32m---> 16\u001b[0;31m     \u001b[0mres\u001b[0m \u001b[0;34m=\u001b[0m \u001b[0mmatlab\u001b[0m\u001b[0;34m.\u001b[0m\u001b[0mrun\u001b[0m\u001b[0;34m(\u001b[0m\u001b[0;34m)\u001b[0m\u001b[0;34m\u001b[0m\u001b[0m\n\u001b[0m\u001b[1;32m     17\u001b[0m \u001b[0;34m\u001b[0m\u001b[0m\n",
      "\u001b[0;32m/om/user/ysa/miniconda3/envs/py27/lib/python2.7/site-packages/nipype/interfaces/base.pyc\u001b[0m in \u001b[0;36mrun\u001b[0;34m(self, **inputs)\u001b[0m\n\u001b[1;32m   1041\u001b[0m                         version=self.version)\n\u001b[1;32m   1042\u001b[0m         \u001b[0;32mtry\u001b[0m\u001b[0;34m:\u001b[0m\u001b[0;34m\u001b[0m\u001b[0m\n\u001b[0;32m-> 1043\u001b[0;31m             \u001b[0mruntime\u001b[0m \u001b[0;34m=\u001b[0m \u001b[0mself\u001b[0m\u001b[0;34m.\u001b[0m\u001b[0m_run_wrapper\u001b[0m\u001b[0;34m(\u001b[0m\u001b[0mruntime\u001b[0m\u001b[0;34m)\u001b[0m\u001b[0;34m\u001b[0m\u001b[0m\n\u001b[0m\u001b[1;32m   1044\u001b[0m             \u001b[0moutputs\u001b[0m \u001b[0;34m=\u001b[0m \u001b[0mself\u001b[0m\u001b[0;34m.\u001b[0m\u001b[0maggregate_outputs\u001b[0m\u001b[0;34m(\u001b[0m\u001b[0mruntime\u001b[0m\u001b[0;34m)\u001b[0m\u001b[0;34m\u001b[0m\u001b[0m\n\u001b[1;32m   1045\u001b[0m             \u001b[0mruntime\u001b[0m\u001b[0;34m.\u001b[0m\u001b[0mendTime\u001b[0m \u001b[0;34m=\u001b[0m \u001b[0mdt\u001b[0m\u001b[0;34m.\u001b[0m\u001b[0misoformat\u001b[0m\u001b[0;34m(\u001b[0m\u001b[0mdt\u001b[0m\u001b[0;34m.\u001b[0m\u001b[0mutcnow\u001b[0m\u001b[0;34m(\u001b[0m\u001b[0;34m)\u001b[0m\u001b[0;34m)\u001b[0m\u001b[0;34m\u001b[0m\u001b[0m\n",
      "\u001b[0;32m/om/user/ysa/miniconda3/envs/py27/lib/python2.7/site-packages/nipype/interfaces/base.pyc\u001b[0m in \u001b[0;36m_run_wrapper\u001b[0;34m(self, runtime)\u001b[0m\n\u001b[1;32m   1658\u001b[0m \u001b[0;34m\u001b[0m\u001b[0m\n\u001b[1;32m   1659\u001b[0m     \u001b[0;32mdef\u001b[0m \u001b[0m_run_wrapper\u001b[0m\u001b[0;34m(\u001b[0m\u001b[0mself\u001b[0m\u001b[0;34m,\u001b[0m \u001b[0mruntime\u001b[0m\u001b[0;34m)\u001b[0m\u001b[0;34m:\u001b[0m\u001b[0;34m\u001b[0m\u001b[0m\n\u001b[0;32m-> 1660\u001b[0;31m         \u001b[0mruntime\u001b[0m \u001b[0;34m=\u001b[0m \u001b[0mself\u001b[0m\u001b[0;34m.\u001b[0m\u001b[0m_run_interface\u001b[0m\u001b[0;34m(\u001b[0m\u001b[0mruntime\u001b[0m\u001b[0;34m)\u001b[0m\u001b[0;34m\u001b[0m\u001b[0m\n\u001b[0m\u001b[1;32m   1661\u001b[0m         \u001b[0;32mreturn\u001b[0m \u001b[0mruntime\u001b[0m\u001b[0;34m\u001b[0m\u001b[0m\n\u001b[1;32m   1662\u001b[0m \u001b[0;34m\u001b[0m\u001b[0m\n",
      "\u001b[0;32m/om/user/ysa/miniconda3/envs/py27/lib/python2.7/site-packages/nipype/interfaces/matlab.pyc\u001b[0m in \u001b[0;36m_run_interface\u001b[0;34m(self, runtime)\u001b[0m\n\u001b[1;32m    147\u001b[0m             \u001b[0;32mpass\u001b[0m\u001b[0;34m\u001b[0m\u001b[0m\n\u001b[1;32m    148\u001b[0m         \u001b[0;32mif\u001b[0m \u001b[0;34m'MATLAB code threw an exception'\u001b[0m \u001b[0;32min\u001b[0m \u001b[0mruntime\u001b[0m\u001b[0;34m.\u001b[0m\u001b[0mstderr\u001b[0m\u001b[0;34m:\u001b[0m\u001b[0;34m\u001b[0m\u001b[0m\n\u001b[0;32m--> 149\u001b[0;31m             \u001b[0mself\u001b[0m\u001b[0;34m.\u001b[0m\u001b[0mraise_exception\u001b[0m\u001b[0;34m(\u001b[0m\u001b[0mruntime\u001b[0m\u001b[0;34m)\u001b[0m\u001b[0;34m\u001b[0m\u001b[0m\n\u001b[0m\u001b[1;32m    150\u001b[0m         \u001b[0;32mreturn\u001b[0m \u001b[0mruntime\u001b[0m\u001b[0;34m\u001b[0m\u001b[0m\n\u001b[1;32m    151\u001b[0m \u001b[0;34m\u001b[0m\u001b[0m\n",
      "\u001b[0;32m/om/user/ysa/miniconda3/envs/py27/lib/python2.7/site-packages/nipype/interfaces/base.pyc\u001b[0m in \u001b[0;36mraise_exception\u001b[0;34m(self, runtime)\u001b[0m\n\u001b[1;32m   1616\u001b[0m         \u001b[0mmessage\u001b[0m \u001b[0;34m+=\u001b[0m \u001b[0;34m\"Standard error:\\n\"\u001b[0m \u001b[0;34m+\u001b[0m \u001b[0mruntime\u001b[0m\u001b[0;34m.\u001b[0m\u001b[0mstderr\u001b[0m \u001b[0;34m+\u001b[0m \u001b[0;34m\"\\n\"\u001b[0m\u001b[0;34m\u001b[0m\u001b[0m\n\u001b[1;32m   1617\u001b[0m         \u001b[0mmessage\u001b[0m \u001b[0;34m+=\u001b[0m \u001b[0;34m\"Return code: \"\u001b[0m \u001b[0;34m+\u001b[0m \u001b[0mstr\u001b[0m\u001b[0;34m(\u001b[0m\u001b[0mruntime\u001b[0m\u001b[0;34m.\u001b[0m\u001b[0mreturncode\u001b[0m\u001b[0;34m)\u001b[0m\u001b[0;34m\u001b[0m\u001b[0m\n\u001b[0;32m-> 1618\u001b[0;31m         \u001b[0;32mraise\u001b[0m \u001b[0mRuntimeError\u001b[0m\u001b[0;34m(\u001b[0m\u001b[0mmessage\u001b[0m\u001b[0;34m)\u001b[0m\u001b[0;34m\u001b[0m\u001b[0m\n\u001b[0m\u001b[1;32m   1619\u001b[0m \u001b[0;34m\u001b[0m\u001b[0m\n\u001b[1;32m   1620\u001b[0m     \u001b[0;34m@\u001b[0m\u001b[0mclassmethod\u001b[0m\u001b[0;34m\u001b[0m\u001b[0m\n",
      "\u001b[0;31mRuntimeError\u001b[0m: Command:\nmatlab -nodesktop -nosplash -singleCompThread -r \"addpath('/storage/gablab001/data/genus/brain_genomic_bayes');pyscript;exit\"\nStandard output:\nMATLAB is selecting SOFTWARE OPENGL rendering.\n\n                            < M A T L A B (R) >\n                  Copyright 1984-2016 The MathWorks, Inc.\n                   R2016b (9.1.0.441655) 64-bit (glnxa64)\n                             September 7, 2016\n\n \nTo get started, type one of these: helpwin, helpdesk, or demo.\nFor product information, visit www.mathworks.com.\n \nExecuting pyscript at 26-May-2017 19:00:00:\n----------------------------------------------------------------------------------------------------\nMATLAB Version: 9.1.0.441655 (R2016b)\nMATLAB License Number: 650662\nOperating System: Linux 3.10.0-229.el7.x86_64 #1 SMP Fri Mar 6 11:36:42 UTC 2015 x86_64\nJava Version: Java 1.7.0_60-b19 with Oracle Corporation Java HotSpot(TM) 64-Bit Server VM mixed mode\n----------------------------------------------------------------------------------------------------\nMATLAB                                                Version 9.1         (R2016b)\nSimulink                                              Version 8.8         (R2016b)\nAerospace Blockset                                    Version 3.18        (R2016b)\nAerospace Toolbox                                     Version 2.18        (R2016b)\nAntenna Toolbox                                       Version 2.1         (R2016b)\nAudio System Toolbox                                  Version 1.1         (R2016b)\nBioinformatics Toolbox                                Version 4.7         (R2016b)\nCommunications System Toolbox                         Version 6.3         (R2016b)\nComputer Vision System Toolbox                        Version 7.2         (R2016b)\nControl System Toolbox                                Version 10.1        (R2016b)\nCurve Fitting Toolbox                                 Version 3.5.4       (R2016b)\nDSP System Toolbox                                    Version 9.3         (R2016b)\nDatabase Toolbox                                      Version 7.0         (R2016b)\nDatafeed Toolbox                                      Version 5.4         (R2016b)\nEconometrics Toolbox                                  Version 3.5         (R2016b)\nEmbedded Coder                                        Version 6.11        (R2016b)\nFilter Design HDL Coder                               Version 3.1         (R2016b)\nFinancial Instruments Toolbox                         Version 2.4         (R2016b)\nFinancial Toolbox                                     Version 5.8         (R2016b)\nFixed-Point Designer                                  Version 5.3         (R2016b)\nFuzzy Logic Toolbox                                   Version 2.2.24      (R2016b)\nGlobal Optimization Toolbox                           Version 3.4.1       (R2016b)\nHDL Coder                                             Version 3.9         (R2016b)\nHDL Verifier                                          Version 5.1         (R2016b)\nImage Acquisition Toolbox                             Version 5.1         (R2016b)\nImage Processing Toolbox                              Version 9.5         (R2016b)\nInstrument Control Toolbox                            Version 3.10        (R2016b)\nLTE System Toolbox                                    Version 2.3         (R2016b)\nMATLAB Coder                                          Version 3.2         (R2016b)\nMATLAB Compiler                                       Version 6.3         (R2016b)\nMATLAB Compiler SDK                                   Version 6.3         (R2016b)\nMATLAB Report Generator                               Version 5.1         (R2016b)\nMapping Toolbox                                       Version 4.4         (R2016b)\nModel Predictive Control Toolbox                      Version 5.2.1       (R2016b)\nNeural Network Toolbox                                Version 9.1         (R2016b)\nOptimization Toolbox                                  Version 7.5         (R2016b)\nParallel Computing Toolbox                            Version 6.9         (R2016b)\nPartial Differential Equation Toolbox                 Version 2.3         (R2016b)\nPhased Array System Toolbox                           Version 3.3         (R2016b)\nPolyspace Bug Finder                                  Version 2.2         (R2016b)\nRF Toolbox                                            Version 3.1         (R2016b)\nRobotics System Toolbox                               Version 1.3         (R2016b)\nRobust Control Toolbox                                Version 6.2         (R2016b)\nSignal Processing Toolbox                             Version 7.3         (R2016b)\nSimBiology                                            Version 5.5         (R2016b)\nSimEvents                                             Version 5.1         (R2016b)\nSimRF                                                 Version 5.1         (R2016b)\nSimscape                                              Version 4.1         (R2016b)\nSimscape Driveline                                    Version 2.11        (R2016b)\nSimscape Electronics                                  Version 2.10        (R2016b)\nSimscape Fluids                                       Version 2.1         (R2016b)\nSimscape Multibody                                    Version 4.9         (R2016b)\nSimscape Power Systems                                Version 6.6         (R2016b)\nSimulink 3D Animation                                 Version 7.6         (R2016b)\nSimulink Coder                                        Version 8.11        (R2016b)\nSimulink Control Design                               Version 4.4         (R2016b)\nSimulink Design Optimization                          Version 3.1         (R2016b)\nSimulink Design Verifier                              Version 3.2         (R2016b)\nSimulink Report Generator                             Version 5.1         (R2016b)\nSimulink Verification and Validation                  Version 3.12        (R2016b)\nStateflow                                             Version 8.8         (R2016b)\nStatistics and Machine Learning Toolbox               Version 11.0        (R2016b)\nSymbolic Math Toolbox                                 Version 7.1         (R2016b)\nSystem Identification Toolbox                         Version 9.5         (R2016b)\nTrading Toolbox                                       Version 3.1         (R2016b)\nVision HDL Toolbox                                    Version 1.3         (R2016b)\nWLAN System Toolbox                                   Version 1.2         (R2016b)\nWavelet Toolbox                                       Version 4.17        (R2016b)\ninside of the code !\nInput arguments : \n\nargs = \n\n  struct with fields:\n\n        step: 'fxvb'\n     csvFile: '/storage/gablab001/data/genus/brain_genomic_bayes/bf_3_resp...'\n    inputMat: '/storage/gablab001/data/genus/brain_genomic_bayes/brain_gen...'\n     outFile: '/om/user/ysa/ffvb_test.mat'\n\nRunning fixed-form variational Bayes ...\n\nStandard error:\nMATLAB code threw an exception:\nAssignment has more non-singleton rhs dimensions than non-singleton subscripts\nFile:/storage/gablab001/data/genus/bayes_adni/basis/bayesianImagingGenetics/src/deployEndoPhenVB.m\nName:/storage/gablab001/data/genus/bayes_adni/basis/bayesianImagingGenetics/src/deployEndoPhenVB.m\nLine:47\nFile:storage/gablab001/data/genus/brain_genomic_bayes/pyscript.m\nName:parseFXVBArguments\nLine:100\nFile:eployEndoPhenVB\nName:pyscript\nLine:335\nFile:^\nName:\b\nLine:\nReturn code: 0\nInterface MatlabCommand failed to run. "
     ]
    }
   ],
   "source": [
    "run_fixedformVB()"
   ]
  },
  {
   "cell_type": "code",
   "execution_count": 105,
   "metadata": {
    "collapsed": true
   },
   "outputs": [],
   "source": [
    "import scipy.io"
   ]
  },
  {
   "cell_type": "code",
   "execution_count": 106,
   "metadata": {},
   "outputs": [
    {
     "data": {
      "text/plain": [
       "['Z',\n",
       " 'G',\n",
       " 'I',\n",
       " '__header__',\n",
       " '__globals__',\n",
       " 'colnames',\n",
       " '__version__',\n",
       " 'response']"
      ]
     },
     "execution_count": 106,
     "metadata": {},
     "output_type": "execute_result"
    }
   ],
   "source": [
    "scipy.io.loadmat(\"/storage/gablab001/data/genus/brain_genomic_bayes/brain_gene.mat\").keys()"
   ]
  },
  {
   "cell_type": "code",
   "execution_count": 40,
   "metadata": {
    "collapsed": true
   },
   "outputs": [],
   "source": [
    "b = scipy.io.loadmat(\"/storage/gablab001/data/genus/brain_genomic_bayes/bf_3/brain_genelh_Thalamus.Proper_1_168_BF.mat\")"
   ]
  },
  {
   "cell_type": "code",
   "execution_count": 42,
   "metadata": {},
   "outputs": [
    {
     "name": "stdout",
     "output_type": "stream",
     "text": [
      "((100000, 9), 'mu')\n",
      "((1, 9), 'lnZ')\n",
      "((1, 1), 'lnZ_weighted')\n",
      "((1, 9), 'w')\n",
      "((100000, 1), 'PIP')\n",
      "((100000, 9), 'alpha')\n"
     ]
    }
   ],
   "source": [
    "for key in b.keys():\n",
    "    try:\n",
    "        print(b[key].shape, key)\n",
    "    except:\n",
    "        pass"
   ]
  },
  {
   "cell_type": "code",
   "execution_count": 121,
   "metadata": {},
   "outputs": [
    {
     "name": "stdout",
     "output_type": "stream",
     "text": [
      "(100000, 9) mu\n",
      "(1, 9) w\n",
      "(100000, 1) PIP\n",
      "(100000, 9) alpha\n"
     ]
    }
   ],
   "source": [
    "for k in ['mu', 'w', 'PIP', 'alpha']:\n",
    "    print b[k].shape, k"
   ]
  },
  {
   "cell_type": "code",
   "execution_count": 32,
   "metadata": {},
   "outputs": [
    {
     "data": {
      "text/plain": [
       "array([[-8549.85556399, -8549.86356402, -8549.87174834, -8549.88107747,\n",
       "        -8549.88980515, -8549.91771467, -8549.9586837 , -8550.03601001,\n",
       "        -8550.17060025]])"
      ]
     },
     "execution_count": 32,
     "metadata": {},
     "output_type": "execute_result"
    }
   ],
   "source": [
    "b['lnZ']"
   ]
  },
  {
   "cell_type": "code",
   "execution_count": 129,
   "metadata": {},
   "outputs": [
    {
     "data": {
      "text/plain": [
       "0"
      ]
     },
     "execution_count": 129,
     "metadata": {},
     "output_type": "execute_result"
    }
   ],
   "source": []
  },
  {
   "cell_type": "code",
   "execution_count": null,
   "metadata": {
    "collapsed": true
   },
   "outputs": [],
   "source": []
  }
 ],
 "metadata": {
  "kernelspec": {
   "display_name": "Python 2",
   "language": "python",
   "name": "python2"
  },
  "language_info": {
   "codemirror_mode": {
    "name": "ipython",
    "version": 2
   },
   "file_extension": ".py",
   "mimetype": "text/x-python",
   "name": "python",
   "nbconvert_exporter": "python",
   "pygments_lexer": "ipython2",
   "version": "2.7.13"
  }
 },
 "nbformat": 4,
 "nbformat_minor": 2
}
