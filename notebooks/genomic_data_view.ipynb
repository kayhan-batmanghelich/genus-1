{
 "cells": [
  {
   "cell_type": "code",
   "execution_count": 2,
   "metadata": {
    "collapsed": false
   },
   "outputs": [
    {
     "name": "stderr",
     "output_type": "stream",
     "text": [
      "/om/user/ysa/fmri_env/lib/python2.7/site-packages/pandas/computation/__init__.py:19: UserWarning: The installed version of numexpr 2.4.4 is not supported in pandas and will be not be used\n",
      "\n",
      "  UserWarning)\n"
     ]
    }
   ],
   "source": [
    "import os\n",
    "import numpy as np\n",
    "import pandas as pd\n",
    "\n",
    "def snp_intersection(path):\n",
    "    bim = [x for x in os.listdir(path) if '.bim' in x and x[0] != '.']\n",
    "    chr_list = []\n",
    "    for i in bim:\n",
    "        try:\n",
    "            print(\"Starting {}\".format(i))\n",
    "            chr_list.append(np.genfromtxt(\n",
    "                    os.path.join(data_dir, i), \n",
    "                    dtype=str, delimiter='\\t', usecols=1))\n",
    "            print(\"Finsihed {}\".format(i))\n",
    "        except (IOError, ValueError) as e:\n",
    "\t        print(\"{} did not load\".format(i))    \n",
    "    intersection = set(chr_list[0]).intersection(*chr_list)\n",
    "    return list(intersection)\n",
    "\n",
    "def snp_pvals(snp_inter, snp, num=100000):\n",
    "    df = pd.DataFrame(snp, columns=['snpid'])\n",
    "    df['snp_copy'] = snp_inter\n",
    "    match = df.set_index('snpid', 1).loc[snp]\n",
    "    match = match.dropna(axis=0)\n",
    "    match['snpid'] = match.index.values\n",
    "    match.index = [x for x in range(match.shape[0])]\n",
    "    match_psorted = match.sort_values('p')\n",
    "    match_psorted.index = [x for x in range(match_psorted.shape[0])]\n",
    "    return match_psorted.ix[:(num - 1), :]\n",
    "\n"
   ]
  },
  {
   "cell_type": "code",
   "execution_count": null,
   "metadata": {
    "collapsed": true
   },
   "outputs": [],
   "source": [
    "data_dir = '/data/petryshen/yoel/EUR/eur'\n",
    "files = [x for x in os.listdir(data_dir) if (('bgn' in x) and ('.bim' in x) and (x[0] != '.'))]\n",
    "onekfile = pd.read_csv('100k_snp_intersections.csv')\n",
    "\n",
    "def read_bim(data):\n",
    "    bim = pd.read_csv(data, sep='\\t', header=None)\n",
    "    bim.columns = ['chrom','snpid','gd','pp','a1','a2']\n",
    "    return bim\n",
    "\n",
    "def match(matcher, matchie):\n",
    "    snpm = matchie.set_index('snpid',1).loc[matcher.snpid]\n",
    "    snpm['snpid'] = snpm.index.values \n",
    "    snpm.index= [x for x in range(snpm.shape[0])]\n",
    "    s = snpm[['chrom', 'snpid', 'gd', 'pp', 'a1', 'a2']]\n",
    "    return s\n",
    "\n",
    "for f in files:\n",
    "    try:\n",
    "        bimfile = read_bim(os.path.join(data_dir, f)) \n",
    "        outfile = match(onekfile, bimfile)\n",
    "        print(np.any(pd.isnull(outfile)))\n",
    "        outfile.to_csv('{}'.format(f), sep='\\t', index=None, header=None)\n",
    "    except IOError:\n",
    "        print(\"{} gave an error\".format(f))\n"
   ]
  },
  {
   "cell_type": "code",
   "execution_count": 1,
   "metadata": {
    "collapsed": true
   },
   "outputs": [],
   "source": [
    "def match_bim(path, snps_pvals):\n",
    "    files = [\n",
    "        x for x in os.listdir(data_dir) if \\\n",
    "        (('bgn' in x) and ('.bim' in x) and (x[0] != '.'))\n",
    "    ]\n",
    "    "
   ]
  },
  {
   "cell_type": "code",
   "execution_count": null,
   "metadata": {
    "collapsed": true
   },
   "outputs": [],
   "source": []
  }
 ],
 "metadata": {
  "kernelspec": {
   "display_name": "Python 2",
   "language": "python",
   "name": "python2"
  },
  "language_info": {
   "codemirror_mode": {
    "name": "ipython",
    "version": 2
   },
   "file_extension": ".py",
   "mimetype": "text/x-python",
   "name": "python",
   "nbconvert_exporter": "python",
   "pygments_lexer": "ipython2",
   "version": "2.7.13"
  }
 },
 "nbformat": 4,
 "nbformat_minor": 0
}
