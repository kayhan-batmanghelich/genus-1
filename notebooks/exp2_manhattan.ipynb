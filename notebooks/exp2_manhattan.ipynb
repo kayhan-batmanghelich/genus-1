{
 "cells": [
  {
   "cell_type": "code",
   "execution_count": null,
   "metadata": {},
   "outputs": [],
   "source": [
    "% matplotlib inline\n",
    "import os\n",
    "import matplotlib.pyplot as plt\n",
    "import numpy as np\n",
    "import seaborn as sns\n",
    "import pandas as pd\n",
    "import scipy.io\n",
    "sns.set_style('white')\n",
    "\n",
    "colors = np.tile(['darkred','black'], 11)\n",
    "\n",
    "snpsloc = pd.read_csv('/storage/gablab001/data/genus/current/structured/cog-gen-bayes/data/100k_snp_loc_pval.csv')\n",
    "tp = '/storage/gablab001/data/genus/current/structured/cog-gen-bayes/output_bf'\n",
    "toplot = scipy.io.loadmat(os.path.join(tp, '100ksnp_VWMdomainAvgZ.mat'))\n",
    "snpsloc['PIP'] = toplot['PIP']\n",
    "snpsloc['log10PIP'] = np.log10(snpsloc['PIP'])\n",
    "df = snpsloc.copy()\n",
    "df.columns = ['chromosome', 'pvalue', 'snpid', 'PIP', 'log10PIP']\n",
    "df['chrnum'] = [int(i[3:]) for i in df.chromosome]\n",
    "df = df.sort_values('chrnum')\n",
    "df['ind'] = range(len(df))\n",
    "grouped = df.groupby(('chrnum'))\n",
    "\n",
    "def plot_manhattan(data):\n",
    "    fig = plt.figure(figsize=(20,10))\n",
    "    fig.suptitle('Bayes Factor Manhattan Plot', fontsize=20)\n",
    "    ax = fig.add_subplot(111)\n",
    "    x_labels = []\n",
    "    x_labels_pos = []\n",
    "    for num, (name, group) in enumerate(data):\n",
    "        group.plot(kind = 'scatter',  x = 'ind',\n",
    "                   y = 'log10PIP', colors = colors[num % len(colors)],\n",
    "                   ax = ax, s=60)\n",
    "        if np.any(group['PIP'] > .05):\n",
    "            x_labels.append(name)\n",
    "        else:\n",
    "            x_labels.append('')\n",
    "        x_labels_pos.append((group['ind'].iloc[-1] - \\\n",
    "            (group['ind'].iloc[-1] - group['ind'].iloc[0]) / 2))\n",
    "    ax.set_xticks(x_labels_pos)\n",
    "    ax.set_xticklabels(x_labels)\n",
    "    ax.set_xlim([0, len(df)])\n",
    "    ax.set_ylim([-4, 0])\n",
    "    plt.xticks(fontsize=20)\n",
    "    plt.yticks(fontsize=20)\n",
    "    plt.xlabel('Chromosome', fontsize=20)\n",
    "    plt.ylabel('log10PIP', fontsize=20)\n",
    "    plt.savefig('manhattan_plot2.png', dpi=300, bbox_inches='tight')\n",
    "    #plt.close(fig)\n",
    "\n",
    "plot_manhattan(grouped)\n"
   ]
  },
  {
   "cell_type": "code",
   "execution_count": null,
   "metadata": {
    "collapsed": true
   },
   "outputs": [],
   "source": []
  }
 ],
 "metadata": {
  "kernelspec": {
   "display_name": "Python 2",
   "language": "python",
   "name": "python2"
  },
  "language_info": {
   "codemirror_mode": {
    "name": "ipython",
    "version": 2
   },
   "file_extension": ".py",
   "mimetype": "text/x-python",
   "name": "python",
   "nbconvert_exporter": "python",
   "pygments_lexer": "ipython2",
   "version": "2.7.13"
  }
 },
 "nbformat": 4,
 "nbformat_minor": 2
}
