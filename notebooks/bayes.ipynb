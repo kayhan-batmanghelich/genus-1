{
 "cells": [
  {
   "cell_type": "code",
   "execution_count": 1,
   "metadata": {
    "collapsed": true
   },
   "outputs": [],
   "source": [
    "import os\n",
    "import numpy as np\n",
    "import pandas as pd\n",
    "from pysnptools.snpreader import Bed\n",
    "import pysnptools.util as pstutil\n",
    "from pysnptools.snpreader import SnpData"
   ]
  },
  {
   "cell_type": "code",
   "execution_count": 2,
   "metadata": {},
   "outputs": [
    {
     "name": "stderr",
     "output_type": "stream",
     "text": [
      "/om/user/ysa/miniconda3/envs/py27/lib/python2.7/site-packages/pysnptools/snpreader/bed.py:42: FutureWarning: 'count_A1' was not set. For now it will default to 'False', but in the future it will default to 'True'\n",
      "  warnings.warn(\"'count_A1' was not set. For now it will default to 'False', but in the future it will default to 'True'\", FutureWarning)\n"
     ]
    }
   ],
   "source": [
    "# gene files in here have not been altered\n",
    "eur_snp_dir = '/storage/gablab001/data/genus/current/EUR/eur'\n",
    "\n",
    "def itersection_tool(some_list):\n",
    "    ii = list(set(some_list[0]).intersection(*some_list))\n",
    "    return [np.in1d(data, ii) for data in some_list]\n",
    "\n",
    "files = [x for x in os.listdir(eur_snp_dir) if ('.bed' in x and 'reid' in x)]\n",
    "\n",
    "snps, stuff = [], []\n",
    "\n",
    "for i in files:\n",
    "    snps.append(Bed(os.path.join(eur_snp_dir, i)))\n",
    "    \n",
    "ii = itersection_tool([sn.sid for sn in snps])\n",
    "\n",
    "for idx, item in enumerate(snps):\n",
    "    stuff.append(item.read().val[:, ii[idx]])"
   ]
  },
  {
   "cell_type": "code",
   "execution_count": 4,
   "metadata": {
    "collapsed": true
   },
   "outputs": [],
   "source": [
    "def itersection_tool(some_list):\n",
    "    ii = list(set(some_list[0]).intersection(*some_list))\n",
    "    return [np.in1d(data, ii) for data in some_list]"
   ]
  },
  {
   "cell_type": "code",
   "execution_count": 5,
   "metadata": {
    "collapsed": true
   },
   "outputs": [],
   "source": [
    "iii = itersection_tool([snpreader1.sid, snpreader2.sid])"
   ]
  },
  {
   "cell_type": "code",
   "execution_count": 6,
   "metadata": {
    "collapsed": true
   },
   "outputs": [],
   "source": [
    "d1 = snpreader1.read()"
   ]
  },
  {
   "cell_type": "code",
   "execution_count": 7,
   "metadata": {
    "collapsed": true
   },
   "outputs": [],
   "source": [
    "q=d1.val[:,iii[0]]"
   ]
  },
  {
   "cell_type": "code",
   "execution_count": 8,
   "metadata": {},
   "outputs": [
    {
     "data": {
      "text/plain": [
       "(158, 10306158)"
      ]
     },
     "execution_count": 8,
     "metadata": {},
     "output_type": "execute_result"
    }
   ],
   "source": [
    "q.shape"
   ]
  },
  {
   "cell_type": "code",
   "execution_count": 15,
   "metadata": {},
   "outputs": [],
   "source": [
    "files = [x for x in os.listdir(eur_snp_dir) if ('.bed' in x and 'reid' in x)]"
   ]
  },
  {
   "cell_type": "code",
   "execution_count": null,
   "metadata": {},
   "outputs": [],
   "source": [
    "snps, stuff = [], []\n",
    "for i in files:\n",
    "    snps.append(Bed(os.path.join(eur_snp_dir, i)))\n",
    "ii = itersection_tool([sn.sid for sn in snps])\n",
    "for idx, item in enumerate(snps):\n",
    "    stuff.append(item.read().val[:, ii[idx]])"
   ]
  },
  {
   "cell_type": "code",
   "execution_count": null,
   "metadata": {},
   "outputs": [],
   "source": []
  },
  {
   "cell_type": "code",
   "execution_count": 19,
   "metadata": {},
   "outputs": [
    {
     "data": {
      "text/plain": [
       "Bed('/storage/gablab001/data/genus/current/EUR/eur/scz_camh_eur_gb-qc.hg19.ch.fl.bgn.reid.bed',count_A1=False)"
      ]
     },
     "execution_count": 19,
     "metadata": {},
     "output_type": "execute_result"
    }
   ],
   "source": []
  },
  {
   "cell_type": "code",
   "execution_count": null,
   "metadata": {
    "collapsed": true
   },
   "outputs": [],
   "source": []
  }
 ],
 "metadata": {
  "kernelspec": {
   "display_name": "Python 2",
   "language": "python",
   "name": "python2"
  },
  "language_info": {
   "codemirror_mode": {
    "name": "ipython",
    "version": 2
   },
   "file_extension": ".py",
   "mimetype": "text/x-python",
   "name": "python",
   "nbconvert_exporter": "python",
   "pygments_lexer": "ipython2",
   "version": "2.7.13"
  }
 },
 "nbformat": 4,
 "nbformat_minor": 2
}
