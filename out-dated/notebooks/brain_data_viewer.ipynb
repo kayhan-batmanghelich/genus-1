{
 "cells": [
  {
   "cell_type": "code",
   "execution_count": 1,
   "metadata": {
    "collapsed": false
   },
   "outputs": [
    {
     "name": "stderr",
     "output_type": "stream",
     "text": [
      "/om/user/ysa/fmri_env/lib/python2.7/site-packages/pandas/computation/__init__.py:19: UserWarning: The installed version of numexpr 2.4.4 is not supported in pandas and will be not be used\n",
      "\n",
      "  UserWarning)\n"
     ]
    }
   ],
   "source": [
    "import numpy as np\n",
    "import pandas as pd\n",
    "from sklearn.preprocessing import LabelEncoder\n",
    "from sklearn.preprocessing import OneHotEncoder"
   ]
  },
  {
   "cell_type": "code",
   "execution_count": 88,
   "metadata": {
    "collapsed": false
   },
   "outputs": [
    {
     "name": "stdout",
     "output_type": "stream",
     "text": [
      "1069_fam_eur.csv                     GENUS_FS_ATLAS_DK_NANCOUNT.csv\r\n",
      "D_atlas_covs                         GENUS_FS_ATLAS_DKT.csv\r\n",
      "D_atlas_covs.csv                     GENUS_FS_ATLAS_DKT_NANCOUNT.csv\r\n",
      "D_atlas_percent_missing.csv          GENUS_FS_ATLAS_D_NANCOUNT.csv\r\n",
      "encode_cat.py                        group_makeup.py\r\n",
      "GENUS_all_FreeSurfer_phenotypes.csv  \u001b[0m\u001b[38;5;27mper_site_classify\u001b[0m/\r\n",
      "\u001b[38;5;34mGENUS_FS_ATLAS_D.csv\u001b[0m*                site_makeup.csv\r\n",
      "GENUS_FS_ATLAS_DK.csv\r\n"
     ]
    }
   ],
   "source": [
    "ls atlas/"
   ]
  },
  {
   "cell_type": "code",
   "execution_count": 3,
   "metadata": {
    "collapsed": false
   },
   "outputs": [
    {
     "name": "stdout",
     "output_type": "stream",
     "text": [
      "170_columns.txt  2k_columns.txt  covariate_variables.txt  id_variables.txt\r\n"
     ]
    }
   ],
   "source": [
    "ls text_files_for_indexing/"
   ]
  },
  {
   "cell_type": "code",
   "execution_count": 27,
   "metadata": {
    "collapsed": false
   },
   "outputs": [],
   "source": [
    "data = pd.read_csv('atlas/GENUS_FS_ATLAS_D.csv', low_memory=False)\n",
    "\n",
    "columns_thickness_170 = np.genfromtxt(\n",
    "    'text_files_for_indexing/170_columns.txt', \n",
    "    dtype=str, \n",
    "    delimiter='\\n')\n",
    "\n",
    "columns_volume_170 = ' '.join(\n",
    "    list(columns_thickness_170)\n",
    "    ).replace(\"_thickness_D\", \"_volume_D\").split()\n",
    "\n",
    "columns_2k = np.genfromtxt(\n",
    "    'text_files_for_indexing/2k_columns.txt',\n",
    "    dtype=str,\n",
    "    delimiter='\\n')\n",
    "\n",
    "covariates = np.genfromtxt(\"text_files_for_indexing/covariate_variables.txt\", dtype=str)\n",
    "\n",
    "id_variables = np.genfromtxt(\"text_files_for_indexing/id_variables.txt\", dtype=str)\n",
    "\n",
    "def name_idx(data, l):\n",
    "    return [(data.columns.get_loc(i), i) for i in l]\n",
    "\n",
    "get = lambda cols, idx: [item[idx] for item in cols]"
   ]
  },
  {
   "cell_type": "code",
   "execution_count": 64,
   "metadata": {
    "collapsed": false,
    "scrolled": true
   },
   "outputs": [],
   "source": [
    "covar_idx = name_idx(data, covariates)\n",
    "id_idx = name_idx(data, id_variables)\n",
    "cols_thick_170_idx = name_idx(data, columns_thickness_170)\n",
    "cols_vol_170_idx = name_idx(data, columns_volume_170)\n",
    "cols_2k_idx = name_idx(data, columns_2k)"
   ]
  },
  {
   "cell_type": "code",
   "execution_count": 28,
   "metadata": {
    "collapsed": false
   },
   "outputs": [
    {
     "name": "stdout",
     "output_type": "stream",
     "text": [
      "Bipolar Disorder (43, 2266)\n",
      "Clinical High Risk (9, 2266)\n",
      "Control (1286, 2266)\n",
      "Familial High Risk (399, 2266)\n",
      "Major Depressive Disorder (8, 2266)\n",
      "Schizophrenia (912, 2266)\n"
     ]
    }
   ],
   "source": [
    "groups = data.groupby('GROUP')\n",
    "control = groups.get_group('Control')\n",
    "schizo = groups.get_group('Schizophrenia')\n",
    "for name, group in groups:\n",
    "    print name, group.shape"
   ]
  },
  {
   "cell_type": "code",
   "execution_count": 97,
   "metadata": {
    "collapsed": false
   },
   "outputs": [],
   "source": [
    "N_matrix = np.zeros((18,5), dtype=object)\n",
    "groups = data.groupby('STUDY')\n",
    "for idx, (name, group) in enumerate(groups):\n",
    "    for i, x in enumerate((cols_thick_170_idx, cols_vol_170_idx, cols_2k_idx)):\n",
    "        N_matrix[idx][0] = name\n",
    "        N_matrix[idx][1] = group.dropna().shape[0]\n",
    "        N_matrix[idx][i+2] = group[get(x, 0)].dropna().shape[0]\n",
    "N_matrix[-1, 1:] = N_matrix[:, 1:].sum(0)\n",
    "N_matrix[-1, 0] = 'sum_total'"
   ]
  },
  {
   "cell_type": "code",
   "execution_count": 98,
   "metadata": {
    "collapsed": false,
    "scrolled": true
   },
   "outputs": [
    {
     "data": {
      "text/html": [
       "<div>\n",
       "<table border=\"1\" class=\"dataframe\">\n",
       "  <thead>\n",
       "    <tr style=\"text-align: right;\">\n",
       "      <th></th>\n",
       "      <th>N_all_NADroped</th>\n",
       "      <th>N_170_NADroped_t</th>\n",
       "      <th>N_170_NADroped_v</th>\n",
       "      <th>N_2k_NADroped</th>\n",
       "    </tr>\n",
       "    <tr>\n",
       "      <th>site</th>\n",
       "      <th></th>\n",
       "      <th></th>\n",
       "      <th></th>\n",
       "      <th></th>\n",
       "    </tr>\n",
       "  </thead>\n",
       "  <tbody>\n",
       "    <tr>\n",
       "      <th>CAMH</th>\n",
       "      <td>145</td>\n",
       "      <td>194</td>\n",
       "      <td>194</td>\n",
       "      <td>194</td>\n",
       "    </tr>\n",
       "    <tr>\n",
       "      <th>CIDAR_P</th>\n",
       "      <td>0</td>\n",
       "      <td>46</td>\n",
       "      <td>46</td>\n",
       "      <td>46</td>\n",
       "    </tr>\n",
       "    <tr>\n",
       "      <th>CIDAR_VA</th>\n",
       "      <td>105</td>\n",
       "      <td>240</td>\n",
       "      <td>240</td>\n",
       "      <td>240</td>\n",
       "    </tr>\n",
       "    <tr>\n",
       "      <th>IMH_SIGNRP</th>\n",
       "      <td>0</td>\n",
       "      <td>302</td>\n",
       "      <td>302</td>\n",
       "      <td>302</td>\n",
       "    </tr>\n",
       "    <tr>\n",
       "      <th>LandR</th>\n",
       "      <td>43</td>\n",
       "      <td>74</td>\n",
       "      <td>74</td>\n",
       "      <td>74</td>\n",
       "    </tr>\n",
       "    <tr>\n",
       "      <th>MGH_FB12_MTH</th>\n",
       "      <td>0</td>\n",
       "      <td>88</td>\n",
       "      <td>88</td>\n",
       "      <td>88</td>\n",
       "    </tr>\n",
       "    <tr>\n",
       "      <th>MGH_SSS_SZB</th>\n",
       "      <td>37</td>\n",
       "      <td>101</td>\n",
       "      <td>101</td>\n",
       "      <td>101</td>\n",
       "    </tr>\n",
       "    <tr>\n",
       "      <th>NEFS_A</th>\n",
       "      <td>55</td>\n",
       "      <td>116</td>\n",
       "      <td>116</td>\n",
       "      <td>116</td>\n",
       "    </tr>\n",
       "    <tr>\n",
       "      <th>NEFS_G</th>\n",
       "      <td>4</td>\n",
       "      <td>4</td>\n",
       "      <td>4</td>\n",
       "      <td>4</td>\n",
       "    </tr>\n",
       "    <tr>\n",
       "      <th>NEFS_S</th>\n",
       "      <td>52</td>\n",
       "      <td>88</td>\n",
       "      <td>88</td>\n",
       "      <td>88</td>\n",
       "    </tr>\n",
       "    <tr>\n",
       "      <th>NEFS_SO</th>\n",
       "      <td>16</td>\n",
       "      <td>24</td>\n",
       "      <td>24</td>\n",
       "      <td>24</td>\n",
       "    </tr>\n",
       "    <tr>\n",
       "      <th>NEFS_T</th>\n",
       "      <td>10</td>\n",
       "      <td>47</td>\n",
       "      <td>47</td>\n",
       "      <td>47</td>\n",
       "    </tr>\n",
       "    <tr>\n",
       "      <th>NUIG</th>\n",
       "      <td>0</td>\n",
       "      <td>0</td>\n",
       "      <td>0</td>\n",
       "      <td>0</td>\n",
       "    </tr>\n",
       "    <tr>\n",
       "      <th>PHRS</th>\n",
       "      <td>35</td>\n",
       "      <td>284</td>\n",
       "      <td>284</td>\n",
       "      <td>284</td>\n",
       "    </tr>\n",
       "    <tr>\n",
       "      <th>TCIN</th>\n",
       "      <td>85</td>\n",
       "      <td>276</td>\n",
       "      <td>276</td>\n",
       "      <td>276</td>\n",
       "    </tr>\n",
       "    <tr>\n",
       "      <th>UMCU_SZ1</th>\n",
       "      <td>115</td>\n",
       "      <td>309</td>\n",
       "      <td>309</td>\n",
       "      <td>309</td>\n",
       "    </tr>\n",
       "    <tr>\n",
       "      <th>UMCU_SZ2</th>\n",
       "      <td>295</td>\n",
       "      <td>555</td>\n",
       "      <td>555</td>\n",
       "      <td>555</td>\n",
       "    </tr>\n",
       "    <tr>\n",
       "      <th>sum_total</th>\n",
       "      <td>997</td>\n",
       "      <td>2748</td>\n",
       "      <td>2748</td>\n",
       "      <td>2748</td>\n",
       "    </tr>\n",
       "  </tbody>\n",
       "</table>\n",
       "</div>"
      ],
      "text/plain": [
       "             N_all_NADroped N_170_NADroped_t N_170_NADroped_v N_2k_NADroped\n",
       "site                                                                       \n",
       "CAMH                    145              194              194           194\n",
       "CIDAR_P                   0               46               46            46\n",
       "CIDAR_VA                105              240              240           240\n",
       "IMH_SIGNRP                0              302              302           302\n",
       "LandR                    43               74               74            74\n",
       "MGH_FB12_MTH              0               88               88            88\n",
       "MGH_SSS_SZB              37              101              101           101\n",
       "NEFS_A                   55              116              116           116\n",
       "NEFS_G                    4                4                4             4\n",
       "NEFS_S                   52               88               88            88\n",
       "NEFS_SO                  16               24               24            24\n",
       "NEFS_T                   10               47               47            47\n",
       "NUIG                      0                0                0             0\n",
       "PHRS                     35              284              284           284\n",
       "TCIN                     85              276              276           276\n",
       "UMCU_SZ1                115              309              309           309\n",
       "UMCU_SZ2                295              555              555           555\n",
       "sum_total               997             2748             2748          2748"
      ]
     },
     "execution_count": 98,
     "metadata": {},
     "output_type": "execute_result"
    }
   ],
   "source": [
    "pd.DataFrame(\n",
    "    N_matrix,\n",
    "    columns = [\n",
    "        'site', 'N_all_NADroped', \n",
    "        'N_170_NADroped_t', 'N_170_NADroped_v',\n",
    "        'N_2k_NADroped'\n",
    "    ]\n",
    ").set_index('site')"
   ]
  },
  {
   "cell_type": "code",
   "execution_count": null,
   "metadata": {
    "collapsed": true
   },
   "outputs": [],
   "source": []
  }
 ],
 "metadata": {
  "kernelspec": {
   "display_name": "Python 2",
   "language": "python",
   "name": "python2"
  },
  "language_info": {
   "codemirror_mode": {
    "name": "ipython",
    "version": 2
   },
   "file_extension": ".py",
   "mimetype": "text/x-python",
   "name": "python",
   "nbconvert_exporter": "python",
   "pygments_lexer": "ipython2",
   "version": "2.7.13"
  }
 },
 "nbformat": 4,
 "nbformat_minor": 0
}
