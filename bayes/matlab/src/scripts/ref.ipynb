{
 "cells": [
  {
   "cell_type": "code",
   "execution_count": 1,
   "metadata": {
    "collapsed": false
   },
   "outputs": [
    {
     "name": "stdout",
     "output_type": "stream",
     "text": [
      "ERROR! Session/line number was not unique in database. History logging moved to new session 468\n",
      "/om/user/ysa/genus/bayes/basis/bayesianImagingGenetics/src/scripts/slurmLauncher.sh\n",
      "Submitted batch job 2516781\n",
      "/om/user/ysa/genus/bayes/basis/bayesianImagingGenetics/src/scripts/slurmLauncher.sh\n",
      "Submitted batch job 2516782\n",
      "/om/user/ysa/genus/bayes/basis/bayesianImagingGenetics/src/scripts/slurmLauncher.sh\n",
      "Submitted batch job 2516783\n",
      "/om/user/ysa/genus/bayes/basis/bayesianImagingGenetics/src/scripts/slurmLauncher.sh\n",
      "Submitted batch job 2516784\n",
      "/om/user/ysa/genus/bayes/basis/bayesianImagingGenetics/src/scripts/slurmLauncher.sh\n",
      "Submitted batch job 2516785\n",
      "/om/user/ysa/genus/bayes/basis/bayesianImagingGenetics/src/scripts/slurmLauncher.sh\n",
      "Submitted batch job 2516786\n",
      "/om/user/ysa/genus/bayes/basis/bayesianImagingGenetics/src/scripts/slurmLauncher.sh\n",
      "Submitted batch job 2516787\n",
      "/om/user/ysa/genus/bayes/basis/bayesianImagingGenetics/src/scripts/slurmLauncher.sh\n",
      "Submitted batch job 2516788\n",
      "/om/user/ysa/genus/bayes/basis/bayesianImagingGenetics/src/scripts/slurmLauncher.sh\n",
      "Submitted batch job 2516789\n",
      "/om/user/ysa/genus/bayes/basis/bayesianImagingGenetics/src/scripts/slurmLauncher.sh\n",
      "Submitted batch job 2516790\n",
      "/om/user/ysa/genus/bayes/basis/bayesianImagingGenetics/src/scripts/slurmLauncher.sh\n",
      "Submitted batch job 2516791\n",
      "/om/user/ysa/genus/bayes/basis/bayesianImagingGenetics/src/scripts/slurmLauncher.sh\n",
      "Submitted batch job 2516792\n",
      "/om/user/ysa/genus/bayes/basis/bayesianImagingGenetics/src/scripts/slurmLauncher.sh\n",
      "Submitted batch job 2516793\n",
      "/om/user/ysa/genus/bayes/basis/bayesianImagingGenetics/src/scripts/slurmLauncher.sh\n",
      "Submitted batch job 2516794\n",
      "/om/user/ysa/genus/bayes/basis/bayesianImagingGenetics/src/scripts/slurmLauncher.sh\n",
      "Submitted batch job 2516795\n",
      "/om/user/ysa/genus/bayes/basis/bayesianImagingGenetics/src/scripts/slurmLauncher.sh\n",
      "Submitted batch job 2516796\n",
      "/om/user/ysa/genus/bayes/basis/bayesianImagingGenetics/src/scripts/slurmLauncher.sh\n",
      "Submitted batch job 2516797\n",
      "/om/user/ysa/genus/bayes/basis/bayesianImagingGenetics/src/scripts/slurmLauncher.sh\n",
      "Submitted batch job 2516798\n",
      "/om/user/ysa/genus/bayes/basis/bayesianImagingGenetics/src/scripts/slurmLauncher.sh\n",
      "Submitted batch job 2516799\n",
      "/om/user/ysa/genus/bayes/basis/bayesianImagingGenetics/src/scripts/slurmLauncher.sh\n",
      "Submitted batch job 2516800\n",
      "/om/user/ysa/genus/bayes/basis/bayesianImagingGenetics/src/scripts/slurmLauncher.sh\n",
      "Submitted batch job 2516801\n",
      "/om/user/ysa/genus/bayes/basis/bayesianImagingGenetics/src/scripts/slurmLauncher.sh\n",
      "Submitted batch job 2516802\n",
      "/om/user/ysa/genus/bayes/basis/bayesianImagingGenetics/src/scripts/slurmLauncher.sh\n",
      "Submitted batch job 2516803\n",
      "/om/user/ysa/genus/bayes/basis/bayesianImagingGenetics/src/scripts/slurmLauncher.sh\n",
      "Submitted batch job 2516804\n",
      "/om/user/ysa/genus/bayes/basis/bayesianImagingGenetics/src/scripts/slurmLauncher.sh\n",
      "Submitted batch job 2516805\n",
      "/om/user/ysa/genus/bayes/basis/bayesianImagingGenetics/src/scripts/slurmLauncher.sh\n",
      "Submitted batch job 2516806\n",
      "/om/user/ysa/genus/bayes/basis/bayesianImagingGenetics/src/scripts/slurmLauncher.sh\n",
      "Submitted batch job 2516807\n",
      "/om/user/ysa/genus/bayes/basis/bayesianImagingGenetics/src/scripts/slurmLauncher.sh\n",
      "Submitted batch job 2516808\n",
      "/om/user/ysa/genus/bayes/basis/bayesianImagingGenetics/src/scripts/slurmLauncher.sh\n",
      "Submitted batch job 2516809\n",
      "/om/user/ysa/genus/bayes/basis/bayesianImagingGenetics/src/scripts/slurmLauncher.sh\n",
      "Submitted batch job 2516810\n",
      "/om/user/ysa/genus/bayes/basis/bayesianImagingGenetics/src/scripts/slurmLauncher.sh\n",
      "Submitted batch job 2516811\n",
      "/om/user/ysa/genus/bayes/basis/bayesianImagingGenetics/src/scripts/slurmLauncher.sh\n",
      "Submitted batch job 2516812\n",
      "/om/user/ysa/genus/bayes/basis/bayesianImagingGenetics/src/scripts/slurmLauncher.sh\n",
      "Submitted batch job 2516813\n",
      "/om/user/ysa/genus/bayes/basis/bayesianImagingGenetics/src/scripts/slurmLauncher.sh\n",
      "Submitted batch job 2516814\n",
      "/om/user/ysa/genus/bayes/basis/bayesianImagingGenetics/src/scripts/slurmLauncher.sh\n",
      "Submitted batch job 2516815\n",
      "/om/user/ysa/genus/bayes/basis/bayesianImagingGenetics/src/scripts/slurmLauncher.sh\n",
      "Submitted batch job 2516816\n",
      "/om/user/ysa/genus/bayes/basis/bayesianImagingGenetics/src/scripts/slurmLauncher.sh\n",
      "Submitted batch job 2516817\n",
      "/om/user/ysa/genus/bayes/basis/bayesianImagingGenetics/src/scripts/slurmLauncher.sh\n",
      "Submitted batch job 2516818\n",
      "/om/user/ysa/genus/bayes/basis/bayesianImagingGenetics/src/scripts/slurmLauncher.sh\n",
      "Submitted batch job 2516819\n",
      "/om/user/ysa/genus/bayes/basis/bayesianImagingGenetics/src/scripts/slurmLauncher.sh\n",
      "Submitted batch job 2516820\n",
      "/om/user/ysa/genus/bayes/basis/bayesianImagingGenetics/src/scripts/slurmLauncher.sh\n",
      "Submitted batch job 2516821\n",
      "/om/user/ysa/genus/bayes/basis/bayesianImagingGenetics/src/scripts/slurmLauncher.sh\n",
      "Submitted batch job 2516823\n",
      "/om/user/ysa/genus/bayes/basis/bayesianImagingGenetics/src/scripts/slurmLauncher.sh\n",
      "Submitted batch job 2516824\n",
      "/om/user/ysa/genus/bayes/basis/bayesianImagingGenetics/src/scripts/slurmLauncher.sh\n",
      "Submitted batch job 2516825\n",
      "/om/user/ysa/genus/bayes/basis/bayesianImagingGenetics/src/scripts/slurmLauncher.sh\n",
      "Submitted batch job 2516826\n",
      "/om/user/ysa/genus/bayes/basis/bayesianImagingGenetics/src/scripts/slurmLauncher.sh\n",
      "Submitted batch job 2516827\n",
      "/om/user/ysa/genus/bayes/basis/bayesianImagingGenetics/src/scripts/slurmLauncher.sh\n",
      "Submitted batch job 2516828\n",
      "/om/user/ysa/genus/bayes/basis/bayesianImagingGenetics/src/scripts/slurmLauncher.sh\n",
      "Submitted batch job 2516829\n",
      "/om/user/ysa/genus/bayes/basis/bayesianImagingGenetics/src/scripts/slurmLauncher.sh\n",
      "Submitted batch job 2516830\n",
      "/om/user/ysa/genus/bayes/basis/bayesianImagingGenetics/src/scripts/slurmLauncher.sh\n",
      "Submitted batch job 2516831\n",
      "/om/user/ysa/genus/bayes/basis/bayesianImagingGenetics/src/scripts/slurmLauncher.sh\n",
      "Submitted batch job 2516832\n",
      "/om/user/ysa/genus/bayes/basis/bayesianImagingGenetics/src/scripts/slurmLauncher.sh\n",
      "Submitted batch job 2516833\n",
      "/om/user/ysa/genus/bayes/basis/bayesianImagingGenetics/src/scripts/slurmLauncher.sh\n",
      "Submitted batch job 2516834\n",
      "/om/user/ysa/genus/bayes/basis/bayesianImagingGenetics/src/scripts/slurmLauncher.sh\n",
      "Submitted batch job 2516836\n",
      "/om/user/ysa/genus/bayes/basis/bayesianImagingGenetics/src/scripts/slurmLauncher.sh\n",
      "Submitted batch job 2516837\n",
      "/om/user/ysa/genus/bayes/basis/bayesianImagingGenetics/src/scripts/slurmLauncher.sh\n",
      "Submitted batch job 2516838\n",
      "/om/user/ysa/genus/bayes/basis/bayesianImagingGenetics/src/scripts/slurmLauncher.sh\n",
      "Submitted batch job 2516839\n",
      "/om/user/ysa/genus/bayes/basis/bayesianImagingGenetics/src/scripts/slurmLauncher.sh\n",
      "Submitted batch job 2516840\n",
      "/om/user/ysa/genus/bayes/basis/bayesianImagingGenetics/src/scripts/slurmLauncher.sh\n",
      "Submitted batch job 2516841\n",
      "/om/user/ysa/genus/bayes/basis/bayesianImagingGenetics/src/scripts/slurmLauncher.sh\n",
      "Submitted batch job 2516842\n",
      "/om/user/ysa/genus/bayes/basis/bayesianImagingGenetics/src/scripts/slurmLauncher.sh\n",
      "Submitted batch job 2516843\n",
      "/om/user/ysa/genus/bayes/basis/bayesianImagingGenetics/src/scripts/slurmLauncher.sh\n",
      "Submitted batch job 2516844\n",
      "/om/user/ysa/genus/bayes/basis/bayesianImagingGenetics/src/scripts/slurmLauncher.sh\n",
      "Submitted batch job 2516845\n",
      "/om/user/ysa/genus/bayes/basis/bayesianImagingGenetics/src/scripts/slurmLauncher.sh\n",
      "Submitted batch job 2516846\n",
      "/om/user/ysa/genus/bayes/basis/bayesianImagingGenetics/src/scripts/slurmLauncher.sh\n",
      "Submitted batch job 2516847\n",
      "/om/user/ysa/genus/bayes/basis/bayesianImagingGenetics/src/scripts/slurmLauncher.sh\n",
      "Submitted batch job 2516848\n",
      "/om/user/ysa/genus/bayes/basis/bayesianImagingGenetics/src/scripts/slurmLauncher.sh\n",
      "Submitted batch job 2516849\n",
      "/om/user/ysa/genus/bayes/basis/bayesianImagingGenetics/src/scripts/slurmLauncher.sh\n",
      "Submitted batch job 2516850\n",
      "/om/user/ysa/genus/bayes/basis/bayesianImagingGenetics/src/scripts/slurmLauncher.sh\n",
      "Submitted batch job 2516851\n",
      "/om/user/ysa/genus/bayes/basis/bayesianImagingGenetics/src/scripts/slurmLauncher.sh\n",
      "Submitted batch job 2516852\n",
      "/om/user/ysa/genus/bayes/basis/bayesianImagingGenetics/src/scripts/slurmLauncher.sh\n",
      "Submitted batch job 2516853\n",
      "/om/user/ysa/genus/bayes/basis/bayesianImagingGenetics/src/scripts/slurmLauncher.sh\n",
      "Submitted batch job 2516854\n",
      "/om/user/ysa/genus/bayes/basis/bayesianImagingGenetics/src/scripts/slurmLauncher.sh\n",
      "Submitted batch job 2516855\n",
      "/om/user/ysa/genus/bayes/basis/bayesianImagingGenetics/src/scripts/slurmLauncher.sh\n",
      "Submitted batch job 2516856\n",
      "/om/user/ysa/genus/bayes/basis/bayesianImagingGenetics/src/scripts/slurmLauncher.sh\n",
      "Submitted batch job 2516857\n",
      "/om/user/ysa/genus/bayes/basis/bayesianImagingGenetics/src/scripts/slurmLauncher.sh\n",
      "Submitted batch job 2516858\n",
      "/om/user/ysa/genus/bayes/basis/bayesianImagingGenetics/src/scripts/slurmLauncher.sh\n",
      "Submitted batch job 2516859\n",
      "/om/user/ysa/genus/bayes/basis/bayesianImagingGenetics/src/scripts/slurmLauncher.sh\n",
      "Submitted batch job 2516860\n",
      "/om/user/ysa/genus/bayes/basis/bayesianImagingGenetics/src/scripts/slurmLauncher.sh\n",
      "Submitted batch job 2516861\n",
      "/om/user/ysa/genus/bayes/basis/bayesianImagingGenetics/src/scripts/slurmLauncher.sh\n",
      "Submitted batch job 2516862\n",
      "/om/user/ysa/genus/bayes/basis/bayesianImagingGenetics/src/scripts/slurmLauncher.sh\n",
      "Submitted batch job 2516863\n",
      "/om/user/ysa/genus/bayes/basis/bayesianImagingGenetics/src/scripts/slurmLauncher.sh\n",
      "Submitted batch job 2516864\n",
      "/om/user/ysa/genus/bayes/basis/bayesianImagingGenetics/src/scripts/slurmLauncher.sh\n",
      "Submitted batch job 2516865\n",
      "/om/user/ysa/genus/bayes/basis/bayesianImagingGenetics/src/scripts/slurmLauncher.sh\n",
      "Submitted batch job 2516866\n",
      "/om/user/ysa/genus/bayes/basis/bayesianImagingGenetics/src/scripts/slurmLauncher.sh\n",
      "Submitted batch job 2516867\n",
      "/om/user/ysa/genus/bayes/basis/bayesianImagingGenetics/src/scripts/slurmLauncher.sh\n",
      "Submitted batch job 2516868\n",
      "/om/user/ysa/genus/bayes/basis/bayesianImagingGenetics/src/scripts/slurmLauncher.sh\n",
      "Submitted batch job 2516869\n",
      "/om/user/ysa/genus/bayes/basis/bayesianImagingGenetics/src/scripts/slurmLauncher.sh\n",
      "Submitted batch job 2516870\n",
      "/om/user/ysa/genus/bayes/basis/bayesianImagingGenetics/src/scripts/slurmLauncher.sh\n",
      "Submitted batch job 2516871\n",
      "/om/user/ysa/genus/bayes/basis/bayesianImagingGenetics/src/scripts/slurmLauncher.sh\n",
      "Submitted batch job 2516872\n",
      "/om/user/ysa/genus/bayes/basis/bayesianImagingGenetics/src/scripts/slurmLauncher.sh\n",
      "Submitted batch job 2516873\n",
      "/om/user/ysa/genus/bayes/basis/bayesianImagingGenetics/src/scripts/slurmLauncher.sh\n",
      "Submitted batch job 2516874\n",
      "/om/user/ysa/genus/bayes/basis/bayesianImagingGenetics/src/scripts/slurmLauncher.sh\n",
      "Submitted batch job 2516875\n",
      "/om/user/ysa/genus/bayes/basis/bayesianImagingGenetics/src/scripts/slurmLauncher.sh\n",
      "Submitted batch job 2516876\n"
     ]
    }
   ],
   "source": [
    "#! /usr/bin/env python\n",
    "\n",
    "import time\n",
    "import numpy as np\n",
    "import os\n",
    "from basis.utilities import execute\n",
    "\n",
    "\n",
    "MCR_DIR='/home/ysa/mcr'\n",
    "slurmLauncher='/om/user/ysa/genus/bayes/basis/bayesianImagingGenetics/src/scripts/slurmLauncher.sh'   \n",
    "matlabLauncher='/om/user/ysa/genus/bayes/basis/bayesianImagingGenetics/src/scripts/runMatlabExec.sh.in'\n",
    "execFile='/om/user/ysa/genus/bayes/basis/bayesianImagingGenetics/src/deployEndoPhenVB'\n",
    "inFileRoots='/om/user/ysa/genus/adni'    \n",
    "outRoot='/om/user/ysa/testdir/'  \n",
    "logFileRoot='/om/user/ysa/testdir/'\n",
    "\n",
    "seedNumbers = np.array([9711, 3975, 8501,  717, 3503, 3836, 1754, 8559, 1228, 2194])\n",
    "csvFile=outRoot +  'BFResultsFileList.csv'\n",
    "matFn = 'natureImput-ChrAll'\n",
    "\n",
    "\n",
    "step='BF'\n",
    "#step='normalize'\n",
    "#step='fxvb'\n",
    "\n",
    "numInterpPhen = 94  \n",
    "simulation = False\n",
    "numRepeats=20\n",
    "fxVbRepeats = 20    # number of internal repeats in the fxvb step  \n",
    "jobRunTime='2-00:00'\n",
    "\n",
    "\n",
    "if (step=='BF'):\n",
    "    for colNum  in range(1,numInterpPhen+1):\n",
    "        jobName='SPSLB_col%d_%s'%(colNum,matFn)\n",
    "        inFn = inFileRoots + '/'  + matFn + '_Data94.mat'\n",
    "        outFn = outRoot + '%(matFn)s_out_Col%(colNum)d.mat'%{'matFn':matFn,'colNum':colNum}\n",
    "\n",
    "        #outFn=outRoot + '/' + matFn + '/SPSLB_out_Col%d.mat'%colNum\n",
    "        execCmd = '%(matlabLauncher)s   %(MCR_DIR)s  %(execFile)s  step %(step)s  inputMat   %(inFn)s  colNum  %(colNum)d   outFile  %(outFn)s'\\\n",
    "                  %{'matlabLauncher':matlabLauncher,'MCR_DIR':MCR_DIR,'execFile':execFile,'step':step,'inFn':inFn,'colNum':colNum,'outFn':outFn}\n",
    "        execCmd = execCmd.split()\n",
    "\n",
    "        stdOut = logFileRoot + '%(jobname)s.stdout'%{'jobname':jobName}\n",
    "        stdErr = logFileRoot + '%(jobname)s.stderr'%{'jobname':jobName}\n",
    "        slurmCmd = 'sbatch  -o  %(stdOut)s  -e %(stdErr)s  --job-name=%(jobname)s   -t %(jobRunTime)s    %(slurmScript)s  '%{'stdOut':stdOut, 'stdErr': stdErr, 'jobname':jobName, 'slurmScript': slurmLauncher, 'jobRunTime':jobRunTime } \n",
    "        slurmCmd = slurmCmd.split()\n",
    "        print slurmLauncher\n",
    "        cmd = slurmCmd + execCmd \n",
    "        execute(cmd,simulate=simulation)  \n",
    "        time.sleep(1)\n",
    "\n",
    "\n",
    "elif (step=='normalize'):    \n",
    "    fid = open(csvFile,'wt')\n",
    "    fid.writelines('colNum,matFn\\n')\n",
    "\n",
    "    for colNum  in range(1,numInterpPhen+1):\n",
    "        jobName='SPSLB_norm_col%d_%s'%(colNum,matFn)\n",
    "        inFn = outRoot + '%(matFn)s_out_Col%(colNum)d.mat'%{'matFn':matFn,'colNum':colNum}\n",
    "        outFn = outRoot + '%(matFn)s_out_Col%(colNum)d.mat'%{'matFn':matFn,'colNum':colNum}\n",
    "\n",
    "        execCmd = '%(matlabLauncher)s   %(MCR_DIR)s  %(execFile)s  step %(step)s  inFile   %(inFn)s   outFile  %(outFn)s'\\\n",
    "                  %{'matlabLauncher':matlabLauncher,'MCR_DIR':MCR_DIR,'execFile':execFile,'step':step,'inFn':inFn, 'outFn':outFn}\n",
    "        execCmd = execCmd.split()\n",
    "\n",
    "        stdOut = logFileRoot + '%(jobname)s.stdout'%{'jobname':jobName}\n",
    "        stdErr = logFileRoot + '%(jobname)s.stderr'%{'jobname':jobName}\n",
    "        slurmCmd = 'sbatch  -o  %(stdOut)s  -e %(stdErr)s  --job-name=%(jobname)s   %(slurmScript)s  '%{'stdOut':stdOut, 'stdErr': stdErr, 'jobname':jobName, 'slurmScript': slurmLauncher } \n",
    "        slurmCmd = slurmCmd.split()\n",
    "\n",
    "        cmd = slurmCmd + execCmd \n",
    "        execute(cmd,simulate=simulation) \n",
    "      \n",
    "        fid.writelines('%d,%s\\n'%(colNum, outFn))\n",
    "               \n",
    "        time.sleep(1)\n",
    "\n",
    "    fid.close()\n",
    "\n",
    "\n",
    "elif (step=='fxvb'):\n",
    "    for r,sn in enumerate(seedNumbers):\n",
    "        outFile=outRoot + '/fxVb_out_Rep%d.mat'%r\n",
    "\n",
    "        jobName='fxVb_seed%d_%s'%(sn,matFn)\n",
    "\n",
    "        inFn = inFileRoots + '/'  + matFn + '_Data94.mat'\n",
    "        outFn = outRoot + '/fxVb_out_%(matFn)s_Seed%(sn)d.mat'%{'matFn':matFn,'sn':sn}\n",
    "\n",
    "\n",
    "        execCmd = '%(matlabLauncher)s   %(MCR_DIR)s  %(execFile)s  step %(step)s  inputMat   %(inFn)s  csvFile  %(csvFile)s   randomSeed   %(randomSeed)d  outFile  %(outFn)s  numRepeats  %(fxVbRepeats)d   '\\\n",
    "                %{'matlabLauncher':matlabLauncher,'MCR_DIR':MCR_DIR,'execFile':execFile,'step':step,'inFn':inFn,'outFn':outFn, 'randomSeed':sn, 'csvFile':csvFile, 'fxVbRepeats':fxVbRepeats}\n",
    "        execCmd = execCmd.split()\n",
    "\n",
    "        stdOut = logFileRoot + '%(jobname)s.stdout'%{'jobname':jobName}\n",
    "        stdErr = logFileRoot + '%(jobname)s.stderr'%{'jobname':jobName}\n",
    "        slurmCmd = 'sbatch  -o  %(stdOut)s  -e %(stdErr)s  --job-name=%(jobname)s  -t %(jobRunTime)s    %(slurmScript)s  '%{'stdOut':stdOut, 'stdErr': stdErr, 'jobname':jobName, 'slurmScript': slurmLauncher } \n",
    "        slurmCmd = slurmCmd.split()\n",
    "\n",
    "        cmd = slurmCmd + execCmd \n",
    "        execute(cmd,simulate=simulation)  \n",
    "        time.sleep(1)"
   ]
  },
  {
   "cell_type": "code",
   "execution_count": 10,
   "metadata": {
    "collapsed": false
   },
   "outputs": [
    {
     "data": {
      "text/plain": [
       "'/om/user/ysa/genus/bayes/basis/bayesianImagingGenetics/src/scripts'"
      ]
     },
     "execution_count": 10,
     "metadata": {},
     "output_type": "execute_result"
    }
   ],
   "source": []
  },
  {
   "cell_type": "code",
   "execution_count": 8,
   "metadata": {
    "collapsed": false
   },
   "outputs": [],
   "source": [
    "\n",
    "import time\n",
    "import numpy as np\n",
    "import os\n",
    "from basis.utilities import execute\n",
    "\n",
    "\n",
    "MCR_DIR='/home/ysa/mcr'\n",
    "slurmLauncher='/om/user/ysa/genus/bayes/basis/bayesianImagingGenetics/src/scripts/slurmLauncher.sh'   \n",
    "matlabLauncher='/om/user/ysa/genus/bayes/basis/bayesianImagingGenetics/src/scripts/runMatlabExec.sh.in'\n",
    "execFile='/om/user/ysa/genus/bayes/basis/bayesianImagingGenetics/src/deployEndoPhenVB'\n",
    "inFileRoots='/om/user/ysa/genus/adni'    \n",
    "outRoot='/om/user/ysa/testdir/'  \n",
    "logFileRoot='/om/user/ysa/testdir/'\n",
    "\n",
    "seedNumbers = np.array([9711, 3975, 8501,  717, 3503, 3836, 1754, 8559, 1228, 2194])\n",
    "csvFile=outRoot +  'BFResultsFileList.csv'\n",
    "matFn = 'natureImput-ChrAll'\n",
    "\n",
    "\n",
    "#step='BF'\n",
    "#step='normalize'\n",
    "step='fxvb'\n",
    "\n",
    "numInterpPhen = 94  \n",
    "simulation = False\n",
    "numRepeats=20\n",
    "fxVbRepeats = 20    # number of internal repeats in the fxvb step  \n",
    "jobRunTime='2-00:00'\n"
   ]
  },
  {
   "cell_type": "code",
   "execution_count": null,
   "metadata": {
    "collapsed": true
   },
   "outputs": [],
   "source": []
  },
  {
   "cell_type": "code",
   "execution_count": 5,
   "metadata": {
    "collapsed": true
   },
   "outputs": [],
   "source": [
    "for colNum  in range(1,94):\n",
    "    jobName='SPSLB_norm_col%d_%s'%(colNum,matFn)\n",
    "    inFn = outRoot + '%(matFn)s_out_Col%(colNum)d.mat'%{'matFn':matFn,'colNum':colNum}\n",
    "    outFn = outRoot + '%(matFn)s_out_Col%(colNum)d.mat'%{'matFn':matFn,'colNum':colNum}\n",
    "\n",
    "    execCmd = '%(matlabLauncher)s   %(MCR_DIR)s  %(execFile)s  step %(step)s  inFile   %(inFn)s   outFile  %(outFn)s'\\\n",
    "              %{'matlabLauncher':matlabLauncher,'MCR_DIR':MCR_DIR,'execFile':execFile,'step':step,'inFn':inFn, 'outFn':outFn}\n",
    "    execCmd = execCmd.split()\n",
    "\n",
    "    stdOut = logFileRoot + '%(jobname)s.stdout'%{'jobname':jobName}\n",
    "    stdErr = logFileRoot + '%(jobname)s.stderr'%{'jobname':jobName}\n",
    "    slurmCmd = 'sbatch  -o  %(stdOut)s  -e %(stdErr)s  --job-name=%(jobname)s   %(slurmScript)s  '%{'stdOut':stdOut, 'stdErr': stdErr, 'jobname':jobName, 'slurmScript': slurmLauncher } \n",
    "    slurmCmd = slurmCmd.split()\n",
    "    cmd = slurmCmd + execCmd "
   ]
  },
  {
   "cell_type": "code",
   "execution_count": 6,
   "metadata": {
    "collapsed": false
   },
   "outputs": [
    {
     "data": {
      "text/plain": [
       "['sbatch',\n",
       " '-o',\n",
       " '/om/user/ysa/testdir/SPSLB_norm_col93_natureImput-ChrAll.stdout',\n",
       " '-e',\n",
       " '/om/user/ysa/testdir/SPSLB_norm_col93_natureImput-ChrAll.stderr',\n",
       " '--job-name=SPSLB_norm_col93_natureImput-ChrAll',\n",
       " '/om/user/ysa/genus/bayes/basis/bayesianImagingGenetics/src/scripts/slurmLauncher.sh',\n",
       " '/om/user/ysa/genus/bayes/basis/bayesianImagingGenetics/src/scripts/runMatlabExec.sh.in',\n",
       " '/home/ysa/mcr',\n",
       " '/om/user/ysa/genus/bayes/basis/bayesianImagingGenetics/src/deployEndoPhenVB',\n",
       " 'step',\n",
       " 'normalize',\n",
       " 'inFile',\n",
       " '/om/user/ysa/testdir/natureImput-ChrAll_out_Col93.mat',\n",
       " 'outFile',\n",
       " '/om/user/ysa/testdir/natureImput-ChrAll_out_Col93.mat']"
      ]
     },
     "execution_count": 6,
     "metadata": {},
     "output_type": "execute_result"
    }
   ],
   "source": [
    "cmd"
   ]
  },
  {
   "cell_type": "code",
   "execution_count": 10,
   "metadata": {
    "collapsed": false
   },
   "outputs": [],
   "source": [
    "for r,sn in enumerate(seedNumbers):\n",
    "    outFile=outRoot + '/fxVb_out_Rep%d.mat'%r\n",
    "\n",
    "    jobName='fxVb_seed%d_%s'%(sn,matFn)\n",
    "\n",
    "    inFn = inFileRoots + '/'  + matFn + '_Data94.mat'\n",
    "    outFn = outRoot + '/fxVb_out_%(matFn)s_Seed%(sn)d.mat'%{'matFn':matFn,'sn':sn}\n",
    "\n",
    "\n",
    "    execCmd = '%(matlabLauncher)s   %(MCR_DIR)s  %(execFile)s  step %(step)s  inputMat   %(inFn)s  csvFile  %(csvFile)s   randomSeed   %(randomSeed)d  outFile  %(outFn)s  numRepeats  %(fxVbRepeats)d   '\\\n",
    "            %{'matlabLauncher':matlabLauncher,'MCR_DIR':MCR_DIR,'execFile':execFile,'step':step,'inFn':inFn,'outFn':outFn, 'randomSeed':sn, 'csvFile':csvFile, 'fxVbRepeats':fxVbRepeats}\n",
    "    execCmd = execCmd.split()\n",
    "\n",
    "    stdOut = logFileRoot + '%(jobname)s.stdout'%{'jobname':jobName}\n",
    "    stdErr = logFileRoot + '%(jobname)s.stderr'%{'jobname':jobName}\n",
    "    slurmCmd = 'sbatch  -o  %(stdOut)s  -e %(stdErr)s  --job-name=%(jobname)s  -t %(jobRunTime)s    %(slurmScript)s  '%{'stdOut':stdOut, 'stdErr': stdErr, 'jobname':jobName,'jobRunTime':jobRunTime, 'slurmScript': slurmLauncher } \n",
    "    slurmCmd = slurmCmd.split()\n",
    "\n",
    "    cmd = slurmCmd + execCmd "
   ]
  },
  {
   "cell_type": "code",
   "execution_count": 11,
   "metadata": {
    "collapsed": false
   },
   "outputs": [
    {
     "data": {
      "text/plain": [
       "'/om/user/ysa/genus/adni/natureImput-ChrAll_Data94.mat'"
      ]
     },
     "execution_count": 11,
     "metadata": {},
     "output_type": "execute_result"
    }
   ],
   "source": [
    "inFn"
   ]
  },
  {
   "cell_type": "code",
   "execution_count": 12,
   "metadata": {
    "collapsed": false
   },
   "outputs": [
    {
     "data": {
      "text/plain": [
       "'/om/user/ysa/testdir//fxVb_out_natureImput-ChrAll_Seed2194.mat'"
      ]
     },
     "execution_count": 12,
     "metadata": {},
     "output_type": "execute_result"
    }
   ],
   "source": [
    "outFn"
   ]
  },
  {
   "cell_type": "code",
   "execution_count": 13,
   "metadata": {
    "collapsed": false
   },
   "outputs": [
    {
     "data": {
      "text/plain": [
       "['/om/user/ysa/genus/bayes/basis/bayesianImagingGenetics/src/scripts/runMatlabExec.sh.in',\n",
       " '/home/ysa/mcr',\n",
       " '/om/user/ysa/genus/bayes/basis/bayesianImagingGenetics/src/deployEndoPhenVB',\n",
       " 'step',\n",
       " 'fxvb',\n",
       " 'inputMat',\n",
       " '/om/user/ysa/genus/adni/natureImput-ChrAll_Data94.mat',\n",
       " 'csvFile',\n",
       " '/om/user/ysa/testdir/BFResultsFileList.csv',\n",
       " 'randomSeed',\n",
       " '2194',\n",
       " 'outFile',\n",
       " '/om/user/ysa/testdir//fxVb_out_natureImput-ChrAll_Seed2194.mat',\n",
       " 'numRepeats',\n",
       " '20']"
      ]
     },
     "execution_count": 13,
     "metadata": {},
     "output_type": "execute_result"
    }
   ],
   "source": [
    "execCmd"
   ]
  },
  {
   "cell_type": "code",
   "execution_count": 15,
   "metadata": {
    "collapsed": false
   },
   "outputs": [
    {
     "data": {
      "text/plain": [
       "['/om/user/ysa/genus/bayes/basis/bayesianImagingGenetics/src/scripts/runMatlabExec.sh.in',\n",
       " '/home/ysa/mcr',\n",
       " '/om/user/ysa/genus/bayes/basis/bayesianImagingGenetics/src/deployEndoPhenVB',\n",
       " 'step',\n",
       " 'fxvb',\n",
       " 'inputMat',\n",
       " '/om/user/ysa/genus/adni/natureImput-ChrAll_Data94.mat',\n",
       " 'csvFile',\n",
       " '/om/user/ysa/testdir/BFResultsFileList.csv',\n",
       " 'randomSeed',\n",
       " '2194',\n",
       " 'outFile',\n",
       " '/om/user/ysa/testdir//fxVb_out_natureImput-ChrAll_Seed2194.mat',\n",
       " 'numRepeats',\n",
       " '20']"
      ]
     },
     "execution_count": 15,
     "metadata": {},
     "output_type": "execute_result"
    }
   ],
   "source": [
    "'''\n",
    "deployEndoPhenVB('step','fxvb',...\n",
    "'csvFile','/data/vision/polina/users/kayhan/Experiments/DPP/geneticResults/SpikeSlabResults_NatureList0/BFResultsFileList.csv',...\n",
    "'inputMat','/data/vision/polina/projects/ADNI/work/kayhan/Journal/MATLAB_Data/natureImput-ChrAll_Data94.mat',...\n",
    "'outFile','test.mat')\n",
    "''';\n",
    "\n",
    "execCmd"
   ]
  },
  {
   "cell_type": "code",
   "execution_count": 16,
   "metadata": {
    "collapsed": false
   },
   "outputs": [
    {
     "data": {
      "text/plain": [
       "['sbatch',\n",
       " '-o',\n",
       " '/om/user/ysa/testdir/fxVb_seed2194_natureImput-ChrAll.stdout',\n",
       " '-e',\n",
       " '/om/user/ysa/testdir/fxVb_seed2194_natureImput-ChrAll.stderr',\n",
       " '--job-name=fxVb_seed2194_natureImput-ChrAll',\n",
       " '-t',\n",
       " '2-00:00',\n",
       " '/om/user/ysa/genus/bayes/basis/bayesianImagingGenetics/src/scripts/slurmLauncher.sh']"
      ]
     },
     "execution_count": 16,
     "metadata": {},
     "output_type": "execute_result"
    }
   ],
   "source": [
    "slurmCmd"
   ]
  },
  {
   "cell_type": "code",
   "execution_count": null,
   "metadata": {
    "collapsed": true
   },
   "outputs": [],
   "source": []
  }
 ],
 "metadata": {
  "kernelspec": {
   "display_name": "Python 2",
   "language": "python",
   "name": "python2"
  },
  "language_info": {
   "codemirror_mode": {
    "name": "ipython",
    "version": 2
   },
   "file_extension": ".py",
   "mimetype": "text/x-python",
   "name": "python",
   "nbconvert_exporter": "python",
   "pygments_lexer": "ipython2",
   "version": "2.7.11"
  }
 },
 "nbformat": 4,
 "nbformat_minor": 0
}
