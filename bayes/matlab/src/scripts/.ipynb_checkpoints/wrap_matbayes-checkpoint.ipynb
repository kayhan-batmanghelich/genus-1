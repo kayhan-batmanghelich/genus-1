{
 "cells": [
  {
   "cell_type": "code",
   "execution_count": 3,
   "metadata": {
    "collapsed": false
   },
   "outputs": [],
   "source": [
    "import matlab.engine\n",
    "from nipype.interfaces.utility import Function\n",
    "import nipype.pipeline.engine as pe\n",
    "import nipype.interfaces.io as nio"
   ]
  },
  {
   "cell_type": "code",
   "execution_count": 50,
   "metadata": {
    "collapsed": false
   },
   "outputs": [
    {
     "name": "stderr",
     "output_type": "stream",
     "text": [
      "usage: __main__.py [-h] [-n NUMREPEATS] [-cn COLNUMS] [-s STEP] [-v VBVS]\n",
      "                   [-g GPML] [-d DEPVB] [-c COMP] [-o OUTPATH]\n",
      "__main__.py: error: unrecognized arguments: -f /run/user/134974/jupyter/kernel-30d07614-d32a-40bf-a3fd-fb767a851579.json\n"
     ]
    },
    {
     "ename": "SystemExit",
     "evalue": "2",
     "output_type": "error",
     "traceback": [
      "An exception has occurred, use %tb to see the full traceback.\n",
      "\u001b[1;31mSystemExit\u001b[0m\u001b[1;31m:\u001b[0m 2\n"
     ]
    },
    {
     "name": "stderr",
     "output_type": "stream",
     "text": [
      "To exit: use 'exit', 'quit', or Ctrl-D.\n"
     ]
    }
   ],
   "source": [
    "#eng = matlab.engine.start_matlab()\n",
    "\n",
    "def checkstr(string):\n",
    "    if string[-1] == '/':\n",
    "        return string\n",
    "    else:\n",
    "        return string + '/'\n",
    "\n",
    "def setup(vbvs, gpml, depvb, comp, outpath):\n",
    "    import os\n",
    "    for i in [vbvs, gpml, depvb, comp]:\n",
    "        eng.addpath(i)\n",
    "    eng.run(checkstr(outpath) + 'startup.m', nargout=0)\n",
    "    os.chdir(outpath)\n",
    "    #return output\n",
    "    \n",
    "Setup = pe.Node(name='Setup',\n",
    "                interface=Function(input_names=['vbvs','gpml',\n",
    "                                                'depvb','comp','outpath'],\n",
    "                                        output_names=[''],\n",
    "                                        function=setup))\n",
    "\n",
    "def csv(colnums, matfiles):\n",
    "    import pandas as pd\n",
    "    df = pd.DataFrame(columns=['colNum','matFn'])\n",
    "    for i in range(colnums):\n",
    "        df.loc[i] = [i, matfiles[i]]\n",
    "    df.iloc[:,0] = df.iloc[:,0].astype(int)\n",
    "    return df\n",
    "\n",
    "\n",
    "Csv = pe.Node(name='Csv',\n",
    "             interface=Function(input_names=['colnums','matfiles'],\n",
    "                               output_names=['df'],\n",
    "                               function=csv))\n",
    "\n",
    "def runstep_bf(step, infile, outfile, data, colnum):\n",
    "    eng.deployEndoPhenVB('step', step,\n",
    "                        'inputMat', infile,\n",
    "                        'colNum', colnum,\n",
    "                        'outFile', outfile,\n",
    "                        nargout = 0)\n",
    "\n",
    "RunstepBF = pe.Node(name='Runstep',\n",
    "                 interface=Function(input_names=['step',\n",
    "                'infile','outfile','data','colnum'],\n",
    "                output_names=[''],\n",
    "                        function=runstep_bf))  \n",
    "                        \n",
    "#RunstepBF.iterables = (\"colnum\", [x for x in range(94)])  \n",
    "    \n",
    "if __name__ == '__main__':\n",
    "    import argparse\n",
    "    defstr = '(default %(default)s)'\n",
    "    parser = argparse.ArgumentParser()\n",
    "    parser.add_argument('-n', '--numrepeats', type=int, help='')\n",
    "    parser.add_argument('-cn', '--colnums', type=int, help='the number of features in your data matrix')\n",
    "    parser.add_argument('-s', '--step', type=str, help=\"either 'bf', 'normalize', or 'fxvb'\")\n",
    "    parser.add_argument('-v', '--vbvs', type=str, help='path to varbvs directory')\n",
    "    parser.add_argument('-g', '--gpml', type=str, help='path to gpml directory')\n",
    "    parser.add_argument('-d', '--depvb', type=str, help='path to where deployEndoPhenVB.m lives')\n",
    "    parser.add_argument('-c', '--comp', type=str, help='path to where computeGPLnZHelper.m lives')\n",
    "    parser.add_argument('-o', '--outpath', type=str, help='path for the output files')\n",
    "    args=parser.parse_args()\n",
    "    numrepeats = args.numrepeats\n",
    "    colnums = args.colnums\n",
    "    step = args.step\n",
    "    vbvs = args.vbvs\n",
    "    gpml = args.gpml\n",
    "    depvb = args.depvb\n",
    "    comp = args.comp\n",
    "    outpath = args.outpath\n",
    "\n",
    "Setup.inputs.vbvs = vbvs\n",
    "Setup.inputs.gpml = gpml\n",
    "Setup.inputs.depvb = depvb\n",
    "Setup.inputs.comp = comp\n",
    "Setup.inputs.outpath = outpath\n",
    "Csv.inputs.colnums = colnums\n",
    "\n",
    "wf = pe.Workflow(name='wf')\n",
    "wf.base_dir = data_dir\n",
    "wf.run()\n",
    "wf.write_graph()"
   ]
  },
  {
   "cell_type": "code",
   "execution_count": 6,
   "metadata": {
    "collapsed": true
   },
   "outputs": [],
   "source": [
    "def runstep(step, infile, outfile, data, colnum):\n",
    "    "
   ]
  },
  {
   "cell_type": "code",
   "execution_count": 45,
   "metadata": {
    "collapsed": false
   },
   "outputs": [
    {
     "data": {
      "text/html": [
       "<div>\n",
       "<table border=\"1\" class=\"dataframe\">\n",
       "  <thead>\n",
       "    <tr style=\"text-align: right;\">\n",
       "      <th></th>\n",
       "      <th>colNum</th>\n",
       "      <th>matFn</th>\n",
       "    </tr>\n",
       "  </thead>\n",
       "  <tbody>\n",
       "    <tr>\n",
       "      <th>0</th>\n",
       "      <td>0</td>\n",
       "      <td>this/test</td>\n",
       "    </tr>\n",
       "    <tr>\n",
       "      <th>1</th>\n",
       "      <td>1</td>\n",
       "      <td>this/test1</td>\n",
       "    </tr>\n",
       "    <tr>\n",
       "      <th>2</th>\n",
       "      <td>2</td>\n",
       "      <td>this/test2</td>\n",
       "    </tr>\n",
       "  </tbody>\n",
       "</table>\n",
       "</div>"
      ],
      "text/plain": [
       "   colNum       matFn\n",
       "0       0   this/test\n",
       "1       1  this/test1\n",
       "2       2  this/test2"
      ]
     },
     "execution_count": 45,
     "metadata": {},
     "output_type": "execute_result"
    }
   ],
   "source": [
    "matfiles=['this/test','this/test1','this/test2']\n",
    "\n",
    "csv(3, matfiles)\n",
    "    "
   ]
  },
  {
   "cell_type": "code",
   "execution_count": 16,
   "metadata": {
    "collapsed": true
   },
   "outputs": [],
   "source": [
    "import pandas as pd"
   ]
  },
  {
   "cell_type": "code",
   "execution_count": 22,
   "metadata": {
    "collapsed": false
   },
   "outputs": [],
   "source": [
    "df = pd.DataFrame(columns=['e','w'])"
   ]
  },
  {
   "cell_type": "code",
   "execution_count": 33,
   "metadata": {
    "collapsed": false
   },
   "outputs": [],
   "source": [
    "for i in range(3):\n",
    "    df.loc[i] = [i,'we']"
   ]
  },
  {
   "cell_type": "code",
   "execution_count": 34,
   "metadata": {
    "collapsed": false
   },
   "outputs": [
    {
     "data": {
      "text/html": [
       "<div>\n",
       "<table border=\"1\" class=\"dataframe\">\n",
       "  <thead>\n",
       "    <tr style=\"text-align: right;\">\n",
       "      <th></th>\n",
       "      <th>e</th>\n",
       "      <th>w</th>\n",
       "    </tr>\n",
       "  </thead>\n",
       "  <tbody>\n",
       "    <tr>\n",
       "      <th>0</th>\n",
       "      <td>0.0</td>\n",
       "      <td>we</td>\n",
       "    </tr>\n",
       "    <tr>\n",
       "      <th>1</th>\n",
       "      <td>1.0</td>\n",
       "      <td>we</td>\n",
       "    </tr>\n",
       "    <tr>\n",
       "      <th>2</th>\n",
       "      <td>2.0</td>\n",
       "      <td>we</td>\n",
       "    </tr>\n",
       "  </tbody>\n",
       "</table>\n",
       "</div>"
      ],
      "text/plain": [
       "     e   w\n",
       "0  0.0  we\n",
       "1  1.0  we\n",
       "2  2.0  we"
      ]
     },
     "execution_count": 34,
     "metadata": {},
     "output_type": "execute_result"
    }
   ],
   "source": [
    "df"
   ]
  },
  {
   "cell_type": "code",
   "execution_count": null,
   "metadata": {
    "collapsed": true
   },
   "outputs": [],
   "source": [
    "help"
   ]
  }
 ],
 "metadata": {
  "kernelspec": {
   "display_name": "Python 2",
   "language": "python",
   "name": "python2"
  },
  "language_info": {
   "codemirror_mode": {
    "name": "ipython",
    "version": 2
   },
   "file_extension": ".py",
   "mimetype": "text/x-python",
   "name": "python",
   "nbconvert_exporter": "python",
   "pygments_lexer": "ipython2",
   "version": "2.7.11"
  }
 },
 "nbformat": 4,
 "nbformat_minor": 0
}
