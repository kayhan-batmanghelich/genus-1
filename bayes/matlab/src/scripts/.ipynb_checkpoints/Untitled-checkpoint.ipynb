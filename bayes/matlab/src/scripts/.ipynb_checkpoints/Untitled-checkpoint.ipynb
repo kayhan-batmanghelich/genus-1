{
 "cells": [
  {
   "cell_type": "code",
   "execution_count": 2,
   "metadata": {
    "collapsed": true
   },
   "outputs": [],
   "source": [
    "from nipype.interfaces.utility import Function\n",
    "import nipype.pipeline.engine as pe\n",
    "import nipype.interfaces.io as nio\n",
    "import nipype.interfaces.utility as niu\n",
    "\n",
    "def runstep_bf(step, infile, outfile, colnum, vbvs, gpml, depvb, comp):\n",
    "    import matlab.engine\n",
    "    def checkstr(string):\n",
    "        if string[-1] == '/':\n",
    "            return string\n",
    "        else:\n",
    "            return string + '/'\n",
    "    eng = matlab.engine.start_matlab()\n",
    "    for i in [vbvs, gpml, depvb, comp]:\n",
    "        eng.addpath(i)\n",
    "    eng.run(checkstr(gpml) + 'startup.m', nargout=0)\n",
    "    eng.deployEndoPhenVB('step', step,\n",
    "                        'inputMat', infile,\n",
    "                        'colNum', colnum,\n",
    "                        'outFile', outfile,\n",
    "                        nargout=0)\n",
    "\n",
    "RunstepBF = pe.Node(name='Runstep',\n",
    "                 interface=Function(input_names=[\n",
    "            'step','infile','outfile','colnum',\n",
    "            'vbvs', 'gpml', 'depvb', 'comp'],\n",
    "                output_names=[''],\n",
    "                        function=runstep_bf))\n",
    "\n",
    "Infosource = pe.Node(niu.IdentityInterface(fields=['colnum']), name = 'Infosource')\n",
    "Infosource.iterables =[('colnum', [x for x in range(94)])]\n",
    "\n",
    "if __name__ == '__main__':\n",
    "    import argparse\n",
    "    defstr = '(default %(default)s)'\n",
    "    parser = argparse.ArgumentParser()\n",
    "    parser.add_argument('-s', '--step', type=str, help=\"either 'bf', 'normalize', or 'fxvb'\")\n",
    "    parser.add_argument('-v', '--vbvs', type=str, help='path to varbvs directory')\n",
    "    parser.add_argument('-g', '--gpml', type=str, help='path to gpml directory')\n",
    "    parser.add_argument('-d', '--depvb', type=str, help='path to where deployEndoPhenVB.m lives')\n",
    "    parser.add_argument('-c', '--comp', type=str, help='path to where computeGPLnZHelper.m lives')\n",
    "    parser.add_argument('-o', '--outfile', type=str, help='path for the output files')\n",
    "    parser.add_argument('-i', '--infile', type=str, help='data file')\n",
    "    args=parser.parse_args()\n",
    "    step = args.step\n",
    "    vbvs = args.vbvs\n",
    "    gpml = args.gpml\n",
    "    depvb = args.depvb\n",
    "    comp = args.comp\n",
    "    outfile = args.outfile\n",
    "    infile = args.infile\n",
    "\n",
    "RunstepBF.inputs.vbvs = vbvs\n",
    "RunstepBF.inputs.gpml = gpml\n",
    "RunstepBF.inputs.depvb = depvb\n",
    "RunstepBF.inputs.comp = comp\n",
    "RunstepBF.inputs.outfile = str(colnum) + outfile\n",
    "RunstepBF.inputs.infile = infile\n",
    "\n",
    "wf = pe.Workflow(name=\"wf\")\n",
    "wf.base_dir = '/om/user/ysa/testdir/new'\n",
    "wf.connect(Infosource, 'colnum', RunstepBF, 'colnum')\n",
    "wf.run('SLURM', plugin_args={'sbatch_args': '-N1 -c2 --mem=8G'})"
   ]
  },
  {
   "cell_type": "code",
   "execution_count": 3,
   "metadata": {
    "collapsed": true
   },
   "outputs": [],
   "source": [
    "'''\n",
    "\n",
    "-v /om/user/ysa/genus/bayes/Carbonetto_VBS/MATLAB \n",
    "-g /om/user/ysa/genus/bayes/basis/gpml\n",
    "-d /om/user/ysa/genus/bayes/basis/bayesianImagingGenetics/src\n",
    "-c /om/user/ysa/genus/bayes/basis/bayesianImagingGenetics/src/Utils\n",
    "-s 'bf'\n",
    "-i /om/user/ysa/genus/adni/natureImput-ChrAll_Data94.mat\n",
    "-o '_test.mat'\n",
    "'''"
   ]
  },
  {
   "cell_type": "code",
   "execution_count": null,
   "metadata": {
    "collapsed": true
   },
   "outputs": [],
   "source": []
  }
 ],
 "metadata": {
  "kernelspec": {
   "display_name": "Python 2",
   "language": "python",
   "name": "python2"
  },
  "language_info": {
   "codemirror_mode": {
    "name": "ipython",
    "version": 2
   },
   "file_extension": ".py",
   "mimetype": "text/x-python",
   "name": "python",
   "nbconvert_exporter": "python",
   "pygments_lexer": "ipython2",
   "version": "2.7.11"
  }
 },
 "nbformat": 4,
 "nbformat_minor": 0
}
