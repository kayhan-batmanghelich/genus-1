{
 "cells": [
  {
   "cell_type": "code",
   "execution_count": 197,
   "metadata": {},
   "outputs": [],
   "source": [
    "import numpy as np\n",
    "\n",
    "def partial_corr(X, Y):\n",
    "    n = X.shape[0]\n",
    "    cX = X - np.sum(X, axis=0, keepdims=True) / n\n",
    "    cY = Y - np.sum(Y, axis=0, keepdims=True) / n\n",
    "    cov_XY = 1. / (n - 1) * np.dot(cX.T, cY)\n",
    "    var_X = 1. / (n - 1) * np.sum(cX**2, axis=0)\n",
    "    var_Y = 1. / (n - 1) * np.sum(cY**2, axis=0)\n",
    "    return cov_XY / np.sqrt(var_X[:, None] * var_Y[None, :])\n",
    "\n",
    "def mean_center_scale(x):\n",
    "    x = x - x.mean(0)\n",
    "    return x / x.std(0)\n",
    "\n",
    "class SCCA:\n",
    "    \"\"\"Implementation of sparce canonical correlation\n",
    "    Reference: Parkhomenko et al.: Sparse Canonical Correlation Analysis\n",
    "    This is a work in progress, not expected to work yet.\n",
    "    \"\"\"\n",
    "    def __init__(self, X, Y, c1=0.00005, c2=0.00005, lu=0.00025, lv=0.000005):\n",
    "        self.X = mean_center_scale(X)\n",
    "        self.Y = mean_center_scale(Y)\n",
    "        self.p = np.shape(X)[1]\n",
    "        self.q = np.shape(Y)[1]\n",
    "        self.c1 = c1\n",
    "        self.c2 = c2\n",
    "        self.lu = lu\n",
    "        self.lv = lv\n",
    "\n",
    "    def _K(self):\n",
    "        xx = partial_corr(self.X, self.X)\n",
    "        yy = partial_corr(self.Y, self.Y)\n",
    "        xy = partial_corr(self.X, self.Y)\n",
    "        xxi = np.linalg.inv(xx)\n",
    "        yyi = np.linalg.inv(yy)\n",
    "        return np.dot(xxi, xy).dot(yyi)\n",
    "\n",
    "    def _norm(self, w):\n",
    "        lengthw = np.linalg.norm(w)\n",
    "        return w/lengthw\n",
    "\n",
    "    def _soft_thresh(self, w, t):\n",
    "        if t == 'u':\n",
    "            w = (np.abs(w) - .5*self.lu) + np.sign(w)\n",
    "        elif t == 'v':\n",
    "            w = (np.abs(w) - .5*self.lv) + np.sign(w)\n",
    "        return w\n",
    "\n",
    "    def fit(self):\n",
    "        u = np.random.sample(self.p)\n",
    "        v = np.random.sample(self.q)\n",
    "        K = self._K()\n",
    "\n",
    "        i = 0\n",
    "        \n",
    "        while not (np.linalg.norm(u, ord=1) <= self.c1) and \\\n",
    "              not (np.linalg.norm(v, ord=1) <= self.c2):\n",
    "                \n",
    "            u = np.dot(K, v)\n",
    "            u = self._norm(u)\n",
    "            u = self._soft_thresh(u, 'u')\n",
    "            u = self._norm(u)\n",
    "            v = np.dot(K.T, u)\n",
    "            v = self._norm(v)\n",
    "            v = self._soft_thresh(v, 'v')\n",
    "            v = self._norm(v)\n",
    "            i += 1\n",
    "            \n",
    "            if i > 100000:\n",
    "                break\n",
    "\n",
    "        return {'K':K, 'u':u, 'v':v, 'i':i}"
   ]
  },
  {
   "cell_type": "code",
   "execution_count": 198,
   "metadata": {
    "collapsed": true
   },
   "outputs": [],
   "source": [
    "np.random.seed(1)\n",
    "X = np.random.random((50,10))\n",
    "Y = np.random.random((50,200))"
   ]
  },
  {
   "cell_type": "code",
   "execution_count": 203,
   "metadata": {
    "collapsed": true
   },
   "outputs": [],
   "source": [
    "from sklearn.datasets import make_multilabel_classification"
   ]
  },
  {
   "cell_type": "code",
   "execution_count": 204,
   "metadata": {
    "collapsed": true
   },
   "outputs": [],
   "source": [
    "X, Y = make_multilabel_classification(n_classes=2, n_labels=1,\n",
    "                                      allow_unlabeled=True,\n",
    "                                      random_state=1)"
   ]
  },
  {
   "cell_type": "code",
   "execution_count": 205,
   "metadata": {
    "collapsed": true
   },
   "outputs": [],
   "source": [
    "test = SCCA(X=X, Y=Y)"
   ]
  },
  {
   "cell_type": "code",
   "execution_count": 206,
   "metadata": {
    "collapsed": true
   },
   "outputs": [],
   "source": [
    "res = test.fit()"
   ]
  },
  {
   "cell_type": "code",
   "execution_count": 207,
   "metadata": {},
   "outputs": [
    {
     "data": {
      "text/plain": [
       "{'K': array([[-0.09256498, -0.01504999],\n",
       "        [ 0.13691358, -0.33751055],\n",
       "        [-0.08221492, -0.07064599],\n",
       "        [ 0.00065494, -0.03195981],\n",
       "        [ 0.0642199 ,  0.10329273],\n",
       "        [-0.09500602,  0.18799675],\n",
       "        [-0.24397874,  0.22625151],\n",
       "        [ 0.0152739 , -0.10489335],\n",
       "        [-0.02068866, -0.11487397],\n",
       "        [ 0.06909904,  0.08751363],\n",
       "        [-0.14909766,  0.02816326],\n",
       "        [ 0.11456296,  0.13568287],\n",
       "        [-0.0578814 , -0.28829252],\n",
       "        [-0.09993971,  0.12685537],\n",
       "        [-0.02455644, -0.20476883],\n",
       "        [ 0.19678833, -0.05459793],\n",
       "        [ 0.17967123, -0.0506575 ],\n",
       "        [ 0.09393062,  0.02650467],\n",
       "        [-0.12452442,  0.12273439],\n",
       "        [ 0.18729089, -0.23080287]]),\n",
       " 'i': 100001,\n",
       " 'u': array([-0.20123622, -0.1336051 , -0.18361469, -0.21425528,  0.27517599,\n",
       "         0.2727518 ,  0.25593289, -0.19135095, -0.18047042,  0.27057087,\n",
       "        -0.20503924,  0.2969449 , -0.11132771,  0.2500434 , -0.14777366,\n",
       "         0.24618376,  0.24408972,  0.25398293,  0.24356429, -0.1817595 ]),\n",
       " 'v': array([ 0.49838483,  0.86695592])}"
      ]
     },
     "execution_count": 207,
     "metadata": {},
     "output_type": "execute_result"
    }
   ],
   "source": [
    "res"
   ]
  },
  {
   "cell_type": "code",
   "execution_count": 209,
   "metadata": {},
   "outputs": [
    {
     "data": {
      "text/plain": [
       "array([[ 5.,  3.,  2., ...,  2.,  2.,  3.],\n",
       "       [ 4.,  2.,  3., ...,  5.,  2.,  1.],\n",
       "       [ 0.,  0.,  3., ...,  2.,  4.,  3.],\n",
       "       ..., \n",
       "       [ 1.,  2.,  2., ...,  6.,  2.,  4.],\n",
       "       [ 0.,  0.,  1., ...,  2.,  2.,  2.],\n",
       "       [ 2.,  2.,  4., ...,  1.,  2.,  2.]])"
      ]
     },
     "execution_count": 209,
     "metadata": {},
     "output_type": "execute_result"
    }
   ],
   "source": []
  },
  {
   "cell_type": "code",
   "execution_count": null,
   "metadata": {
    "collapsed": true
   },
   "outputs": [],
   "source": []
  }
 ],
 "metadata": {
  "kernelspec": {
   "display_name": "Python 2",
   "language": "python",
   "name": "python2"
  },
  "language_info": {
   "codemirror_mode": {
    "name": "ipython",
    "version": 2
   },
   "file_extension": ".py",
   "mimetype": "text/x-python",
   "name": "python",
   "nbconvert_exporter": "python",
   "pygments_lexer": "ipython2",
   "version": "2.7.13"
  }
 },
 "nbformat": 4,
 "nbformat_minor": 2
}
