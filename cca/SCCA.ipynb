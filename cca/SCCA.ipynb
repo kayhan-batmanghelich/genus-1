{
 "cells": [
  {
   "cell_type": "code",
   "execution_count": 13,
   "metadata": {
    "collapsed": true
   },
   "outputs": [],
   "source": [
    "import numpy as np\n",
    "\n",
    "def partial_corr(X, Y):\n",
    "    n = X.shape[0]\n",
    "    cX = X - np.sum(X, axis=0, keepdims=True) / n\n",
    "    cY = Y - np.sum(Y, axis=0, keepdims=True) / n\n",
    "    cov_XY = 1. / (n - 1) * np.dot(cX.T, cY)\n",
    "    var_X = 1. / (n - 1) * np.sum(cX**2, axis=0)\n",
    "    var_Y = 1. / (n - 1) * np.sum(cY**2, axis=0)\n",
    "    return cov_XY / np.sqrt(var_X[:, None] * var_Y[None, :])\n",
    "\n",
    "def mean_center_scale(x):\n",
    "    x = x - x.mean(0)\n",
    "    return x / x.std(0)\n",
    "\n",
    "class SCCA:\n",
    "    \"\"\"Implementation of sparce canonical correlation\n",
    "    Reference: Parkhomenko et al.: Sparse Canonical Correlation Analysis\n",
    "    This is a work in progress, not expected to work yet.\n",
    "    \"\"\"\n",
    "    def __init__(self, X, Y, c1=0.01, c2=0.01, lu=0.0001, lv=0.0002):\n",
    "        self.X = mean_center_scale(X)\n",
    "        self.Y = mean_center_scale(Y)\n",
    "        self.p = np.shape(X)[1]\n",
    "        self.q = np.shape(Y)[1]\n",
    "        self.c1 = c1\n",
    "        self.c2 = c2\n",
    "        self.lu = lu\n",
    "        self.lv = lv\n",
    "\n",
    "    def _K(self):\n",
    "        xx = partial_corr(self.X, self.X)\n",
    "        yy = partial_corr(self.Y, self.Y)\n",
    "        xy = partial_corr(self.X, self.Y)\n",
    "        #xxi = np.linalg.inv(np.diagxx)\n",
    "        #yyi = np.linalg.inv(yy)\n",
    "        xxi = np.linalg.inv(np.diag(np.diag(xx)))\n",
    "        yyi = np.linalg.inv(np.diag(np.diag(yy)))\n",
    "        return np.dot(xxi, xy).dot(yyi)\n",
    "\n",
    "    def _norm(self, w):\n",
    "        lw=np.sqrt(np.dot(w, w))\n",
    "        return w/lw\n",
    "\n",
    "    def _soft_thresh(self, w, t):\n",
    "        if t == 'u':\n",
    "            w = (np.abs(w) - .5*self.lu) + np.sign(w)\n",
    "        elif t == 'v':\n",
    "            w = (np.abs(w) - .5*self.lv) + np.sign(w)\n",
    "        return w\n",
    "\n",
    "    def fit(self):\n",
    "        u = np.random.sample(self.p)\n",
    "        v = np.random.sample(self.q)\n",
    "        K = self._K()\n",
    "        i = 0\n",
    "        \n",
    "        while  (np.linalg.norm(u, ord=1) > self.c1) and \\\n",
    "               (np.linalg.norm(v, ord=1) > self.c2):\n",
    "            u = np.dot(K, v)\n",
    "            u = self._norm(u)\n",
    "            u = self._soft_thresh(u, 'u')\n",
    "            u = self._norm(u)\n",
    "            v = np.dot(K.T, u)\n",
    "            v = self._norm(v)\n",
    "            v = self._soft_thresh(v, 'v')\n",
    "            v = self._norm(v)\n",
    "            i += 1\n",
    "            if i > 100000:\n",
    "                break\n",
    "        \n",
    "        self.K = K\n",
    "        self.u = u\n",
    "        self.v = v\n",
    "        self.i = i\n",
    "\n",
    "        return self\n",
    "    \n",
    "    def predict(self, X_new):\n",
    "        pass"
   ]
  },
  {
   "cell_type": "code",
   "execution_count": 14,
   "metadata": {
    "collapsed": true
   },
   "outputs": [],
   "source": [
    "X = np.random.random((100,10))\n",
    "Y = np.random.random((100, 200))"
   ]
  },
  {
   "cell_type": "code",
   "execution_count": 15,
   "metadata": {
    "collapsed": true
   },
   "outputs": [],
   "source": [
    "test = SCCA(X,Y)"
   ]
  },
  {
   "cell_type": "code",
   "execution_count": 16,
   "metadata": {},
   "outputs": [],
   "source": [
    "res=test.fit()\n"
   ]
  },
  {
   "cell_type": "code",
   "execution_count": 19,
   "metadata": {},
   "outputs": [
    {
     "data": {
      "text/plain": [
       "array([-0.24036635,  0.49011772,  0.38233955, -0.29974106, -0.24393519,\n",
       "       -0.25918908, -0.20342491, -0.23244437, -0.20583645,  0.4489057 ])"
      ]
     },
     "execution_count": 19,
     "metadata": {},
     "output_type": "execute_result"
    }
   ],
   "source": [
    "res.u"
   ]
  },
  {
   "cell_type": "code",
   "execution_count": 20,
   "metadata": {},
   "outputs": [
    {
     "data": {
      "text/plain": [
       "array([ 0.07405644, -0.06848973, -0.06489097,  0.07457401, -0.0676253 ,\n",
       "        0.07045079, -0.0680534 ,  0.07254993,  0.07203938, -0.06920278,\n",
       "        0.07280125, -0.06260649, -0.06416174,  0.07261806, -0.06890614,\n",
       "        0.07331063, -0.06679016, -0.06903331,  0.07252417,  0.07368516,\n",
       "        0.07422394, -0.06890984,  0.07021322,  0.07793662, -0.06622216,\n",
       "       -0.06972754,  0.07118383, -0.06714335,  0.07379219,  0.07810022,\n",
       "       -0.06671387,  0.07535091,  0.07273917, -0.06948989,  0.0740075 ,\n",
       "        0.0743911 , -0.06701335,  0.07847339,  0.07371109, -0.06560368,\n",
       "        0.07889406,  0.07125198,  0.0730361 , -0.06580661,  0.07172044,\n",
       "        0.07334191, -0.06244295, -0.06880922, -0.06569065,  0.07248205,\n",
       "        0.07005496,  0.07338073,  0.07232826,  0.07757322,  0.07118603,\n",
       "       -0.0616832 ,  0.07149578, -0.06825757,  0.07023528,  0.07011214,\n",
       "        0.07549713, -0.06958255,  0.07734182, -0.06804941, -0.06423161,\n",
       "        0.07399478,  0.07523319,  0.08171757, -0.05996833,  0.07483502,\n",
       "       -0.06397111,  0.06988912, -0.06585054,  0.07012086, -0.06430725,\n",
       "       -0.06901057, -0.06578077,  0.07318656,  0.07020575,  0.07214991,\n",
       "        0.07508446, -0.06202361,  0.07143361, -0.06569554, -0.06554314,\n",
       "       -0.06525853,  0.0791476 , -0.06525062,  0.07249806,  0.07162426,\n",
       "       -0.06504729,  0.07353095,  0.07106174,  0.07229037,  0.07740912,\n",
       "       -0.06628028, -0.06788454, -0.06778906, -0.06883792, -0.06558342,\n",
       "        0.07754522,  0.07678375, -0.06526886,  0.08025907,  0.07769729,\n",
       "       -0.06721468,  0.07177046,  0.07420259,  0.0731192 ,  0.07222624,\n",
       "        0.07713404, -0.06703422, -0.06651004,  0.07514907,  0.07168873,\n",
       "       -0.06635941, -0.06857567, -0.06418084,  0.07349757,  0.07590475,\n",
       "        0.07969661,  0.07798385,  0.07396715,  0.07382397,  0.07332632,\n",
       "       -0.06389472, -0.06620059, -0.05632262, -0.06849106, -0.0637065 ,\n",
       "        0.07079146, -0.06932826, -0.06965094,  0.07389179,  0.07754953,\n",
       "        0.07695164, -0.06817675, -0.06878876, -0.06971912,  0.07537803,\n",
       "        0.07242585,  0.07730621,  0.0700412 , -0.06368911,  0.07602668,\n",
       "       -0.05679571,  0.0739098 ,  0.07021098,  0.07139426,  0.07102074,\n",
       "       -0.06888906,  0.07075042, -0.06578541,  0.07144222, -0.06785453,\n",
       "       -0.06840099,  0.07933271,  0.07514334,  0.07128671, -0.06768997,\n",
       "        0.07619242, -0.06936139,  0.07176895,  0.06989821,  0.0721978 ,\n",
       "       -0.06006531,  0.07746378,  0.07099417,  0.07169549, -0.06611499,\n",
       "        0.07134987, -0.06762383,  0.07498723, -0.06495326,  0.07379614,\n",
       "        0.06985346,  0.07137105, -0.06081765,  0.0711448 , -0.06859913,\n",
       "        0.07432603, -0.0652779 , -0.06982192, -0.06821975, -0.06893584,\n",
       "        0.07165601,  0.07940144, -0.06654713, -0.06770708,  0.07520519,\n",
       "       -0.06370323, -0.05683826,  0.07118712,  0.07095666,  0.07379836,\n",
       "       -0.06838644, -0.05918453,  0.08016827, -0.06575866,  0.08466146])"
      ]
     },
     "execution_count": 20,
     "metadata": {},
     "output_type": "execute_result"
    }
   ],
   "source": [
    "res.v"
   ]
  },
  {
   "cell_type": "code",
   "execution_count": null,
   "metadata": {
    "collapsed": true
   },
   "outputs": [],
   "source": []
  }
 ],
 "metadata": {
  "kernelspec": {
   "display_name": "Python 2",
   "language": "python",
   "name": "python2"
  },
  "language_info": {
   "codemirror_mode": {
    "name": "ipython",
    "version": 2
   },
   "file_extension": ".py",
   "mimetype": "text/x-python",
   "name": "python",
   "nbconvert_exporter": "python",
   "pygments_lexer": "ipython2",
   "version": "2.7.13"
  }
 },
 "nbformat": 4,
 "nbformat_minor": 2
}
